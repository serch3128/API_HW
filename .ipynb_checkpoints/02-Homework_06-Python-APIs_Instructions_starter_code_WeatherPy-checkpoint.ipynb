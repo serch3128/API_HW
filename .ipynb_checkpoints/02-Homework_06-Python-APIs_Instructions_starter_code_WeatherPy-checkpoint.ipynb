{
 "cells": [
  {
   "cell_type": "markdown",
   "metadata": {},
   "source": [
    "# WeatherPy\n",
    "----\n",
    "\n",
    "#### Note\n",
    "* Instructions have been included for each segment. You do not have to follow them exactly, but they are included to help you think through the steps."
   ]
  },
  {
   "cell_type": "code",
   "execution_count": 1,
   "metadata": {
    "scrolled": true
   },
   "outputs": [],
   "source": [
    "# Dependencies and Setup\n",
    "import matplotlib.pyplot as plt\n",
    "import pandas as pd\n",
    "import numpy as np\n",
    "import requests\n",
    "import time\n",
    "from scipy.stats import linregress\n",
    "\n",
    "# Import API key\n",
    "from api_keys import weather_api_key\n",
    "\n",
    "# Incorporated citipy to determine city based on latitude and longitude\n",
    "from citipy import citipy\n",
    "\n",
    "# Output File (CSV)\n",
    "output_data_file = \"output_data/cities.csv\"\n",
    "\n",
    "# Range of latitudes and longitudes\n",
    "lat_range = (-90, 90)\n",
    "lng_range = (-180, 180)"
   ]
  },
  {
   "cell_type": "markdown",
   "metadata": {},
   "source": [
    "## Generate Cities List"
   ]
  },
  {
   "cell_type": "code",
   "execution_count": 2,
   "metadata": {},
   "outputs": [
    {
     "data": {
      "text/plain": [
       "626"
      ]
     },
     "execution_count": 2,
     "metadata": {},
     "output_type": "execute_result"
    }
   ],
   "source": [
    "# List for holding lat_lngs and cities\n",
    "lat_lngs = []\n",
    "cities = []\n",
    "\n",
    "# Create a set of random lat and lng combinations\n",
    "lats = np.random.uniform(low=-90.000, high=90.000, size=1500)\n",
    "lngs = np.random.uniform(low=-180.000, high=180.000, size=1500)\n",
    "lat_lngs = zip(lats, lngs)\n",
    "\n",
    "# Identify nearest city for each lat, lng combination\n",
    "for lat_lng in lat_lngs:\n",
    "    city = citipy.nearest_city(lat_lng[0], lat_lng[1]).city_name\n",
    "    \n",
    "    # If the city is unique, then add it to a our cities list\n",
    "    if city not in cities:\n",
    "        cities.append(city)\n",
    "\n",
    "# Print the city count to confirm sufficient count\n",
    "len(cities)"
   ]
  },
  {
   "cell_type": "markdown",
   "metadata": {},
   "source": [
    "### Perform API Calls\n",
    "* Perform a weather check on each city using a series of successive API calls.\n",
    "* Include a print log of each city as it'sbeing processed (with the city number and city name).\n"
   ]
  },
  {
   "cell_type": "code",
   "execution_count": 3,
   "metadata": {},
   "outputs": [],
   "source": [
    "#build the data frame \n",
    "city_df=pd.DataFrame({\"City\":cities})"
   ]
  },
  {
   "cell_type": "code",
   "execution_count": 4,
   "metadata": {},
   "outputs": [
    {
     "data": {
      "text/html": [
       "<div>\n",
       "<style scoped>\n",
       "    .dataframe tbody tr th:only-of-type {\n",
       "        vertical-align: middle;\n",
       "    }\n",
       "\n",
       "    .dataframe tbody tr th {\n",
       "        vertical-align: top;\n",
       "    }\n",
       "\n",
       "    .dataframe thead th {\n",
       "        text-align: right;\n",
       "    }\n",
       "</style>\n",
       "<table border=\"1\" class=\"dataframe\">\n",
       "  <thead>\n",
       "    <tr style=\"text-align: right;\">\n",
       "      <th></th>\n",
       "      <th>City</th>\n",
       "    </tr>\n",
       "  </thead>\n",
       "  <tbody>\n",
       "    <tr>\n",
       "      <th>0</th>\n",
       "      <td>ushuaia</td>\n",
       "    </tr>\n",
       "    <tr>\n",
       "      <th>1</th>\n",
       "      <td>cape town</td>\n",
       "    </tr>\n",
       "    <tr>\n",
       "      <th>2</th>\n",
       "      <td>puerto ayora</td>\n",
       "    </tr>\n",
       "    <tr>\n",
       "      <th>3</th>\n",
       "      <td>dikson</td>\n",
       "    </tr>\n",
       "    <tr>\n",
       "      <th>4</th>\n",
       "      <td>pisco</td>\n",
       "    </tr>\n",
       "  </tbody>\n",
       "</table>\n",
       "</div>"
      ],
      "text/plain": [
       "           City\n",
       "0       ushuaia\n",
       "1     cape town\n",
       "2  puerto ayora\n",
       "3        dikson\n",
       "4         pisco"
      ]
     },
     "execution_count": 4,
     "metadata": {},
     "output_type": "execute_result"
    }
   ],
   "source": [
    "city_df.head()"
   ]
  },
  {
   "cell_type": "code",
   "execution_count": 5,
   "metadata": {},
   "outputs": [],
   "source": [
    "#Add the additionals columns\n",
    "city_df[\"Cloudiness\"]=\"\"\n",
    "city_df[\"Country\"]=\"\"\n",
    "city_df[\"Date\"]=\"\"\n",
    "city_df[\"Humidity\"]=\"\"\n",
    "city_df[\"Lat\"]=\"\"\n",
    "city_df[\"Lng\"]=\"\"\n",
    "city_df[\"Max Temp\"]=\"\"\n",
    "city_df[\"Wind Speed\"]=\"\""
   ]
  },
  {
   "cell_type": "code",
   "execution_count": 6,
   "metadata": {
    "scrolled": true
   },
   "outputs": [
    {
     "data": {
      "text/html": [
       "<div>\n",
       "<style scoped>\n",
       "    .dataframe tbody tr th:only-of-type {\n",
       "        vertical-align: middle;\n",
       "    }\n",
       "\n",
       "    .dataframe tbody tr th {\n",
       "        vertical-align: top;\n",
       "    }\n",
       "\n",
       "    .dataframe thead th {\n",
       "        text-align: right;\n",
       "    }\n",
       "</style>\n",
       "<table border=\"1\" class=\"dataframe\">\n",
       "  <thead>\n",
       "    <tr style=\"text-align: right;\">\n",
       "      <th></th>\n",
       "      <th>City</th>\n",
       "      <th>Cloudiness</th>\n",
       "      <th>Country</th>\n",
       "      <th>Date</th>\n",
       "      <th>Humidity</th>\n",
       "      <th>Lat</th>\n",
       "      <th>Lng</th>\n",
       "      <th>Max Temp</th>\n",
       "      <th>Wind Speed</th>\n",
       "    </tr>\n",
       "  </thead>\n",
       "  <tbody>\n",
       "    <tr>\n",
       "      <th>0</th>\n",
       "      <td>ushuaia</td>\n",
       "      <td></td>\n",
       "      <td></td>\n",
       "      <td></td>\n",
       "      <td></td>\n",
       "      <td></td>\n",
       "      <td></td>\n",
       "      <td></td>\n",
       "      <td></td>\n",
       "    </tr>\n",
       "    <tr>\n",
       "      <th>1</th>\n",
       "      <td>cape town</td>\n",
       "      <td></td>\n",
       "      <td></td>\n",
       "      <td></td>\n",
       "      <td></td>\n",
       "      <td></td>\n",
       "      <td></td>\n",
       "      <td></td>\n",
       "      <td></td>\n",
       "    </tr>\n",
       "    <tr>\n",
       "      <th>2</th>\n",
       "      <td>puerto ayora</td>\n",
       "      <td></td>\n",
       "      <td></td>\n",
       "      <td></td>\n",
       "      <td></td>\n",
       "      <td></td>\n",
       "      <td></td>\n",
       "      <td></td>\n",
       "      <td></td>\n",
       "    </tr>\n",
       "    <tr>\n",
       "      <th>3</th>\n",
       "      <td>dikson</td>\n",
       "      <td></td>\n",
       "      <td></td>\n",
       "      <td></td>\n",
       "      <td></td>\n",
       "      <td></td>\n",
       "      <td></td>\n",
       "      <td></td>\n",
       "      <td></td>\n",
       "    </tr>\n",
       "    <tr>\n",
       "      <th>4</th>\n",
       "      <td>pisco</td>\n",
       "      <td></td>\n",
       "      <td></td>\n",
       "      <td></td>\n",
       "      <td></td>\n",
       "      <td></td>\n",
       "      <td></td>\n",
       "      <td></td>\n",
       "      <td></td>\n",
       "    </tr>\n",
       "  </tbody>\n",
       "</table>\n",
       "</div>"
      ],
      "text/plain": [
       "           City Cloudiness Country Date Humidity Lat Lng Max Temp Wind Speed\n",
       "0       ushuaia                                                             \n",
       "1     cape town                                                             \n",
       "2  puerto ayora                                                             \n",
       "3        dikson                                                             \n",
       "4         pisco                                                             "
      ]
     },
     "execution_count": 6,
     "metadata": {},
     "output_type": "execute_result"
    }
   ],
   "source": [
    "city_df.head()"
   ]
  },
  {
   "cell_type": "code",
   "execution_count": 7,
   "metadata": {},
   "outputs": [
    {
     "data": {
      "text/plain": [
       "City          626\n",
       "Cloudiness    626\n",
       "Country       626\n",
       "Date          626\n",
       "Humidity      626\n",
       "Lat           626\n",
       "Lng           626\n",
       "Max Temp      626\n",
       "Wind Speed    626\n",
       "dtype: int64"
      ]
     },
     "execution_count": 7,
     "metadata": {},
     "output_type": "execute_result"
    }
   ],
   "source": [
    "#Check all the data \n",
    "city_df.count()"
   ]
  },
  {
   "cell_type": "code",
   "execution_count": 8,
   "metadata": {},
   "outputs": [],
   "source": [
    "#Set the url \n",
    "city=\"london\"\n",
    "url=f\"http://api.openweathermap.org/data/2.5/weather?q={city}&units=metric&APPID={weather_api_key}\""
   ]
  },
  {
   "cell_type": "code",
   "execution_count": 9,
   "metadata": {},
   "outputs": [
    {
     "data": {
      "text/plain": [
       "<Response [200]>"
      ]
     },
     "execution_count": 9,
     "metadata": {},
     "output_type": "execute_result"
    }
   ],
   "source": [
    "#test the request \n",
    "requests.get(url)\n"
   ]
  },
  {
   "cell_type": "code",
   "execution_count": 10,
   "metadata": {},
   "outputs": [],
   "source": [
    "#call the test to look the data\n",
    "test=requests.get(url).json()"
   ]
  },
  {
   "cell_type": "code",
   "execution_count": 11,
   "metadata": {},
   "outputs": [
    {
     "data": {
      "text/plain": [
       "{'coord': {'lon': -0.13, 'lat': 51.51},\n",
       " 'weather': [{'id': 804,\n",
       "   'main': 'Clouds',\n",
       "   'description': 'overcast clouds',\n",
       "   'icon': '04d'}],\n",
       " 'base': 'stations',\n",
       " 'main': {'temp': 12.55,\n",
       "  'feels_like': 8.09,\n",
       "  'temp_min': 11,\n",
       "  'temp_max': 14.44,\n",
       "  'pressure': 1023,\n",
       "  'humidity': 43},\n",
       " 'visibility': 10000,\n",
       " 'wind': {'speed': 3.6, 'deg': 40},\n",
       " 'clouds': {'all': 95},\n",
       " 'dt': 1589461560,\n",
       " 'sys': {'type': 1,\n",
       "  'id': 1414,\n",
       "  'country': 'GB',\n",
       "  'sunrise': 1589429379,\n",
       "  'sunset': 1589485454},\n",
       " 'timezone': 3600,\n",
       " 'id': 2643743,\n",
       " 'name': 'London',\n",
       " 'cod': 200}"
      ]
     },
     "execution_count": 11,
     "metadata": {},
     "output_type": "execute_result"
    }
   ],
   "source": [
    "test\n"
   ]
  },
  {
   "cell_type": "code",
   "execution_count": 12,
   "metadata": {},
   "outputs": [
    {
     "data": {
      "text/plain": [
       "14.44"
      ]
     },
     "execution_count": 12,
     "metadata": {},
     "output_type": "execute_result"
    }
   ],
   "source": [
    "#Build the data lines for your data \n",
    "test[\"clouds\"][\"all\"]\n",
    "test[\"sys\"][\"country\"]\n",
    "test[\"dt\"]\n",
    "test[\"main\"][\"humidity\"]\n",
    "test[\"coord\"][\"lat\"]\n",
    "test[\"coord\"][\"lon\"]\n",
    "test[\"wind\"][\"speed\"]\n",
    "test[\"main\"][\"temp_max\"]"
   ]
  },
  {
   "cell_type": "code",
   "execution_count": 13,
   "metadata": {},
   "outputs": [
    {
     "name": "stdout",
     "output_type": "stream",
     "text": [
      "Proccesing Record 0 of set | ushuaia \n",
      "Proccesing Record 1 of set | cape town \n",
      "Proccesing Record 2 of set | puerto ayora \n",
      "Proccesing Record 3 of set | dikson \n",
      "Proccesing Record 4 of set | pisco \n",
      "Proccesing Record 5 of set | barentsburg \n",
      "barentsburg not found. Skipping...\n",
      "Proccesing Record 6 of set | wawa \n",
      "Proccesing Record 7 of set | punta arenas \n",
      "Proccesing Record 8 of set | borlange \n",
      "borlange not found. Skipping...\n",
      "Proccesing Record 9 of set | rikitea \n",
      "Proccesing Record 10 of set | samandag \n",
      "Proccesing Record 11 of set | saint george \n",
      "Proccesing Record 12 of set | yellowknife \n",
      "Proccesing Record 13 of set | kavieng \n",
      "Proccesing Record 14 of set | ambulu \n",
      "Proccesing Record 15 of set | aleksandrov gay \n",
      "Proccesing Record 16 of set | braniewo \n",
      "Proccesing Record 17 of set | atuona \n",
      "Proccesing Record 18 of set | illoqqortoormiut \n",
      "illoqqortoormiut not found. Skipping...\n",
      "Proccesing Record 19 of set | sayyan \n",
      "Proccesing Record 20 of set | saint-pierre \n",
      "Proccesing Record 21 of set | mys shmidta \n",
      "mys shmidta not found. Skipping...\n",
      "Proccesing Record 22 of set | buala \n",
      "Proccesing Record 23 of set | port hawkesbury \n",
      "Proccesing Record 24 of set | saskylakh \n",
      "Proccesing Record 25 of set | necochea \n",
      "Proccesing Record 26 of set | arraial do cabo \n",
      "Proccesing Record 27 of set | tuktoyaktuk \n",
      "Proccesing Record 28 of set | airai \n",
      "Proccesing Record 29 of set | inuvik \n",
      "Proccesing Record 30 of set | saint-philippe \n",
      "Proccesing Record 31 of set | fuerte olimpo \n",
      "Proccesing Record 32 of set | husavik \n",
      "Proccesing Record 33 of set | albany \n",
      "Proccesing Record 34 of set | progreso \n",
      "Proccesing Record 35 of set | astoria \n",
      "Proccesing Record 36 of set | vila \n",
      "Proccesing Record 37 of set | hithadhoo \n",
      "Proccesing Record 38 of set | merauke \n",
      "Proccesing Record 39 of set | nikolskoye \n",
      "Proccesing Record 40 of set | tottori \n",
      "Proccesing Record 41 of set | kapaa \n",
      "Proccesing Record 42 of set | avarua \n",
      "Proccesing Record 43 of set | hobart \n",
      "Proccesing Record 44 of set | lorengau \n",
      "Proccesing Record 45 of set | brisbane \n",
      "Proccesing Record 46 of set | ulladulla \n",
      "Proccesing Record 47 of set | bethel \n",
      "Proccesing Record 48 of set | grand river south east \n",
      "grand river south east not found. Skipping...\n",
      "Proccesing Record 49 of set | kruisfontein \n",
      "Proccesing Record 50 of set | safaga \n",
      "Proccesing Record 51 of set | bluff \n",
      "Proccesing Record 52 of set | moron \n",
      "Proccesing Record 53 of set | georgetown \n",
      "Proccesing Record 54 of set | cabo san lucas \n",
      "Proccesing Record 55 of set | los zacatones \n",
      "Proccesing Record 56 of set | alamosa \n",
      "Proccesing Record 57 of set | kikwit \n",
      "Proccesing Record 58 of set | general pico \n",
      "Proccesing Record 59 of set | victoria \n",
      "Proccesing Record 60 of set | havoysund \n",
      "Proccesing Record 61 of set | wilmington \n",
      "Proccesing Record 62 of set | west wendover \n",
      "Proccesing Record 63 of set | busselton \n",
      "Proccesing Record 64 of set | general roca \n",
      "Proccesing Record 65 of set | sola \n",
      "Proccesing Record 66 of set | mazagao \n",
      "Proccesing Record 67 of set | qaanaaq \n",
      "Proccesing Record 68 of set | saldanha \n",
      "Proccesing Record 69 of set | hilo \n",
      "Proccesing Record 70 of set | stromness \n",
      "Proccesing Record 71 of set | taolanaro \n",
      "taolanaro not found. Skipping...\n",
      "Proccesing Record 72 of set | vaini \n",
      "Proccesing Record 73 of set | labrea \n",
      "Proccesing Record 74 of set | kushiro \n",
      "Proccesing Record 75 of set | kamenskoye \n",
      "kamenskoye not found. Skipping...\n",
      "Proccesing Record 76 of set | muli \n",
      "Proccesing Record 77 of set | menongue \n",
      "Proccesing Record 78 of set | bonthe \n",
      "Proccesing Record 79 of set | villa maria \n",
      "Proccesing Record 80 of set | koslan \n",
      "Proccesing Record 81 of set | tyukalinsk \n",
      "Proccesing Record 82 of set | saint anthony \n",
      "Proccesing Record 83 of set | alofi \n",
      "Proccesing Record 84 of set | dergachi \n",
      "Proccesing Record 85 of set | aykhal \n",
      "Proccesing Record 86 of set | aykino \n",
      "Proccesing Record 87 of set | mar del plata \n",
      "Proccesing Record 88 of set | tornio \n",
      "Proccesing Record 89 of set | novaya zaimka \n",
      "Proccesing Record 90 of set | new norfolk \n",
      "Proccesing Record 91 of set | khatanga \n",
      "Proccesing Record 92 of set | teahupoo \n",
      "Proccesing Record 93 of set | ilulissat \n",
      "Proccesing Record 94 of set | grants pass \n",
      "Proccesing Record 95 of set | klaksvik \n",
      "Proccesing Record 96 of set | camacha \n",
      "Proccesing Record 97 of set | eyl \n",
      "Proccesing Record 98 of set | dhidhdhoo \n",
      "Proccesing Record 99 of set | tabas \n",
      "Proccesing Record 100 of set | oak harbor \n",
      "Proccesing Record 101 of set | sosnovo-ozerskoye \n",
      "Proccesing Record 102 of set | harbour breton \n",
      "Proccesing Record 103 of set | bathsheba \n",
      "Proccesing Record 104 of set | hami \n",
      "Proccesing Record 105 of set | butaritari \n",
      "Proccesing Record 106 of set | baghdad \n",
      "Proccesing Record 107 of set | norman wells \n",
      "Proccesing Record 108 of set | hermanus \n",
      "Proccesing Record 109 of set | grindavik \n",
      "Proccesing Record 110 of set | bredasdorp \n",
      "Proccesing Record 111 of set | pemba \n",
      "Proccesing Record 112 of set | sitka \n",
      "Proccesing Record 113 of set | gari \n",
      "Proccesing Record 114 of set | ancud \n",
      "Proccesing Record 115 of set | kahului \n",
      "Proccesing Record 116 of set | yining \n",
      "Proccesing Record 117 of set | northam \n",
      "Proccesing Record 118 of set | mahebourg \n",
      "Proccesing Record 119 of set | tessalit \n",
      "Proccesing Record 120 of set | oranjestad \n",
      "Proccesing Record 121 of set | geraldton \n",
      "Proccesing Record 122 of set | yarmouth \n",
      "Proccesing Record 123 of set | liberty \n",
      "Proccesing Record 124 of set | longyearbyen \n",
      "Proccesing Record 125 of set | namatanai \n",
      "Proccesing Record 126 of set | gondanglegi \n",
      "Proccesing Record 127 of set | tilichiki \n",
      "Proccesing Record 128 of set | salinopolis \n",
      "Proccesing Record 129 of set | ostrovnoy \n",
      "Proccesing Record 130 of set | goderich \n",
      "Proccesing Record 131 of set | kudahuvadhoo \n",
      "Proccesing Record 132 of set | esperance \n",
      "Proccesing Record 133 of set | bulawayo \n",
      "Proccesing Record 134 of set | cockburn town \n",
      "Proccesing Record 135 of set | toliary \n",
      "toliary not found. Skipping...\n",
      "Proccesing Record 136 of set | qianguo \n",
      "Proccesing Record 137 of set | banda aceh \n",
      "Proccesing Record 138 of set | beringovskiy \n",
      "Proccesing Record 139 of set | bonavista \n",
      "Proccesing Record 140 of set | ingham \n",
      "Proccesing Record 141 of set | jamestown \n",
      "Proccesing Record 142 of set | acapulco \n",
      "Proccesing Record 143 of set | san cristobal \n",
      "Proccesing Record 144 of set | port alfred \n",
      "Proccesing Record 145 of set | khonuu \n",
      "khonuu not found. Skipping...\n",
      "Proccesing Record 146 of set | athabasca \n",
      "Proccesing Record 147 of set | moshenskoye \n",
      "Proccesing Record 148 of set | belushya guba \n",
      "belushya guba not found. Skipping...\n",
      "Proccesing Record 149 of set | bubaque \n",
      "Proccesing Record 150 of set | lompoc \n",
      "Proccesing Record 151 of set | port lincoln \n",
      "Proccesing Record 152 of set | caruaru \n",
      "Proccesing Record 153 of set | kiama \n",
      "Proccesing Record 154 of set | bengkulu \n",
      "Proccesing Record 155 of set | torbay \n",
      "Proccesing Record 156 of set | byron bay \n",
      "Proccesing Record 157 of set | mount gambier \n",
      "Proccesing Record 158 of set | iqaluit \n",
      "Proccesing Record 159 of set | ilhabela \n",
      "Proccesing Record 160 of set | saint-pacome \n",
      "saint-pacome not found. Skipping...\n",
      "Proccesing Record 161 of set | severo-kurilsk \n",
      "Proccesing Record 162 of set | kodiak \n",
      "Proccesing Record 163 of set | faanui \n",
      "Proccesing Record 164 of set | quartucciu \n",
      "Proccesing Record 165 of set | la rioja \n",
      "Proccesing Record 166 of set | codrington \n",
      "Proccesing Record 167 of set | mataura \n",
      "Proccesing Record 168 of set | barra patuca \n",
      "Proccesing Record 169 of set | lolua \n",
      "lolua not found. Skipping...\n",
      "Proccesing Record 170 of set | ayagoz \n",
      "Proccesing Record 171 of set | pevek \n",
      "Proccesing Record 172 of set | aitape \n",
      "Proccesing Record 173 of set | pokaran \n",
      "Proccesing Record 174 of set | sao filipe \n",
      "Proccesing Record 175 of set | utica \n",
      "Proccesing Record 176 of set | lyngseidet \n",
      "Proccesing Record 177 of set | cherskiy \n",
      "Proccesing Record 178 of set | ponta do sol \n",
      "Proccesing Record 179 of set | manjeshwar \n",
      "Proccesing Record 180 of set | lebu \n",
      "Proccesing Record 181 of set | barrow \n",
      "Proccesing Record 182 of set | oksfjord \n",
      "Proccesing Record 183 of set | haines junction \n",
      "Proccesing Record 184 of set | asau \n",
      "Proccesing Record 185 of set | zhanakorgan \n",
      "Proccesing Record 186 of set | kuching \n",
      "Proccesing Record 187 of set | rosarito \n",
      "Proccesing Record 188 of set | rocha \n",
      "Proccesing Record 189 of set | kano \n"
     ]
    },
    {
     "name": "stdout",
     "output_type": "stream",
     "text": [
      "Proccesing Record 190 of set | englewood \n",
      "Proccesing Record 191 of set | thompson \n",
      "Proccesing Record 192 of set | hasaki \n",
      "Proccesing Record 193 of set | lazo \n",
      "Proccesing Record 194 of set | bardiyah \n",
      "Proccesing Record 195 of set | omboue \n",
      "Proccesing Record 196 of set | marawi \n",
      "Proccesing Record 197 of set | provideniya \n",
      "Proccesing Record 198 of set | eirunepe \n",
      "Proccesing Record 199 of set | samusu \n",
      "samusu not found. Skipping...\n",
      "Proccesing Record 200 of set | upernavik \n",
      "Proccesing Record 201 of set | saleaula \n",
      "saleaula not found. Skipping...\n",
      "Proccesing Record 202 of set | lagoa \n",
      "Proccesing Record 203 of set | khanpur \n",
      "Proccesing Record 204 of set | sistranda \n",
      "Proccesing Record 205 of set | touros \n",
      "Proccesing Record 206 of set | tual \n",
      "Proccesing Record 207 of set | dawei \n",
      "Proccesing Record 208 of set | port-cartier \n",
      "Proccesing Record 209 of set | kindu \n",
      "Proccesing Record 210 of set | mehamn \n",
      "Proccesing Record 211 of set | riccione \n",
      "Proccesing Record 212 of set | abnub \n",
      "Proccesing Record 213 of set | lata \n",
      "Proccesing Record 214 of set | ribeira grande \n",
      "Proccesing Record 215 of set | college \n",
      "Proccesing Record 216 of set | miracema do tocantins \n",
      "Proccesing Record 217 of set | narsaq \n",
      "Proccesing Record 218 of set | camopi \n",
      "Proccesing Record 219 of set | fortuna \n",
      "Proccesing Record 220 of set | chokurdakh \n",
      "Proccesing Record 221 of set | bambanglipuro \n",
      "Proccesing Record 222 of set | tigzirt \n",
      "Proccesing Record 223 of set | castro \n",
      "Proccesing Record 224 of set | sao joao da barra \n",
      "Proccesing Record 225 of set | lac du bonnet \n",
      "Proccesing Record 226 of set | temaraia \n",
      "temaraia not found. Skipping...\n",
      "Proccesing Record 227 of set | matay \n",
      "Proccesing Record 228 of set | luderitz \n",
      "Proccesing Record 229 of set | laguna \n",
      "Proccesing Record 230 of set | henties bay \n",
      "Proccesing Record 231 of set | mehran \n",
      "Proccesing Record 232 of set | katsuura \n",
      "Proccesing Record 233 of set | erzin \n",
      "Proccesing Record 234 of set | vardo \n",
      "Proccesing Record 235 of set | chicama \n",
      "Proccesing Record 236 of set | rorvik \n",
      "Proccesing Record 237 of set | yabassi \n",
      "Proccesing Record 238 of set | shache \n",
      "Proccesing Record 239 of set | tsuruoka \n",
      "Proccesing Record 240 of set | tiksi \n",
      "Proccesing Record 241 of set | columbia \n",
      "Proccesing Record 242 of set | ulundi \n",
      "Proccesing Record 243 of set | oktyabrskoye \n",
      "Proccesing Record 244 of set | bendigo \n",
      "Proccesing Record 245 of set | machinga \n",
      "Proccesing Record 246 of set | bambous virieux \n",
      "Proccesing Record 247 of set | sorong \n",
      "Proccesing Record 248 of set | kimbe \n",
      "Proccesing Record 249 of set | alekseyevsk \n",
      "Proccesing Record 250 of set | dullewala \n",
      "Proccesing Record 251 of set | burnie \n",
      "Proccesing Record 252 of set | najran \n",
      "Proccesing Record 253 of set | chuy \n",
      "Proccesing Record 254 of set | vaitupu \n",
      "vaitupu not found. Skipping...\n",
      "Proccesing Record 255 of set | pangnirtung \n",
      "Proccesing Record 256 of set | llanes \n",
      "Proccesing Record 257 of set | akyab \n",
      "Proccesing Record 258 of set | vestmanna \n",
      "Proccesing Record 259 of set | heihe \n",
      "Proccesing Record 260 of set | klamath falls \n",
      "Proccesing Record 261 of set | makat \n",
      "Proccesing Record 262 of set | coahuayana \n",
      "Proccesing Record 263 of set | lugovoy \n",
      "Proccesing Record 264 of set | paramonga \n",
      "Proccesing Record 265 of set | chernyshevskiy \n",
      "Proccesing Record 266 of set | caravelas \n",
      "Proccesing Record 267 of set | ugep \n",
      "Proccesing Record 268 of set | davenda \n",
      "Proccesing Record 269 of set | emilio carranza \n",
      "Proccesing Record 270 of set | moindou \n",
      "Proccesing Record 271 of set | shihezi \n",
      "Proccesing Record 272 of set | batticaloa \n",
      "Proccesing Record 273 of set | assomada \n",
      "Proccesing Record 274 of set | port elizabeth \n",
      "Proccesing Record 275 of set | kodinsk \n",
      "Proccesing Record 276 of set | shubarkuduk \n",
      "Proccesing Record 277 of set | sampit \n",
      "Proccesing Record 278 of set | karia \n",
      "Proccesing Record 279 of set | teano \n",
      "Proccesing Record 280 of set | thurso \n",
      "Proccesing Record 281 of set | coari \n",
      "Proccesing Record 282 of set | tacoronte \n",
      "Proccesing Record 283 of set | rungata \n",
      "rungata not found. Skipping...\n",
      "Proccesing Record 284 of set | dunedin \n",
      "Proccesing Record 285 of set | broome \n",
      "Proccesing Record 286 of set | tuatapere \n",
      "Proccesing Record 287 of set | belyy yar \n",
      "Proccesing Record 288 of set | luohe \n",
      "Proccesing Record 289 of set | nanortalik \n",
      "Proccesing Record 290 of set | maxixe \n",
      "Proccesing Record 291 of set | warrnambool \n",
      "Proccesing Record 292 of set | jiaohe \n",
      "Proccesing Record 293 of set | gupitan \n",
      "Proccesing Record 294 of set | east london \n",
      "Proccesing Record 295 of set | honningsvag \n",
      "Proccesing Record 296 of set | carnarvon \n",
      "Proccesing Record 297 of set | korla \n",
      "Proccesing Record 298 of set | aklavik \n",
      "Proccesing Record 299 of set | lakselv \n",
      "Proccesing Record 300 of set | anadyr \n",
      "Proccesing Record 301 of set | ribas do rio pardo \n",
      "Proccesing Record 302 of set | arifwala \n",
      "Proccesing Record 303 of set | te anau \n",
      "Proccesing Record 304 of set | attawapiskat \n",
      "attawapiskat not found. Skipping...\n",
      "Proccesing Record 305 of set | egvekinot \n",
      "Proccesing Record 306 of set | buariki \n",
      "buariki not found. Skipping...\n",
      "Proccesing Record 307 of set | cidreira \n",
      "Proccesing Record 308 of set | clyde river \n",
      "Proccesing Record 309 of set | berezovyy \n",
      "Proccesing Record 310 of set | ahuimanu \n",
      "Proccesing Record 311 of set | yumen \n",
      "Proccesing Record 312 of set | sibu \n",
      "Proccesing Record 313 of set | lavrentiya \n",
      "Proccesing Record 314 of set | kaduqli \n",
      "Proccesing Record 315 of set | ust-nera \n",
      "Proccesing Record 316 of set | naze \n",
      "Proccesing Record 317 of set | jacobina \n",
      "Proccesing Record 318 of set | sohag \n",
      "Proccesing Record 319 of set | thakurgaon \n",
      "Proccesing Record 320 of set | bargal \n",
      "bargal not found. Skipping...\n",
      "Proccesing Record 321 of set | borovskoy \n",
      "Proccesing Record 322 of set | yerbogachen \n",
      "Proccesing Record 323 of set | muros \n",
      "Proccesing Record 324 of set | lasa \n",
      "Proccesing Record 325 of set | edd \n",
      "Proccesing Record 326 of set | hualmay \n",
      "Proccesing Record 327 of set | miramar \n",
      "Proccesing Record 328 of set | mergui \n",
      "mergui not found. Skipping...\n",
      "Proccesing Record 329 of set | wolfville \n",
      "Proccesing Record 330 of set | hay river \n",
      "Proccesing Record 331 of set | tvoroyri \n",
      "Proccesing Record 332 of set | the valley \n",
      "Proccesing Record 333 of set | montrose \n",
      "Proccesing Record 334 of set | inirida \n",
      "Proccesing Record 335 of set | puerto escondido \n",
      "Proccesing Record 336 of set | kapit \n",
      "Proccesing Record 337 of set | lazaro cardenas \n",
      "Proccesing Record 338 of set | isangel \n",
      "Proccesing Record 339 of set | vila velha \n",
      "Proccesing Record 340 of set | la ciotat \n",
      "Proccesing Record 341 of set | praia \n",
      "Proccesing Record 342 of set | hamilton \n",
      "Proccesing Record 343 of set | sorvag \n",
      "sorvag not found. Skipping...\n",
      "Proccesing Record 344 of set | yar-sale \n",
      "Proccesing Record 345 of set | chikoy \n",
      "chikoy not found. Skipping...\n",
      "Proccesing Record 346 of set | whitianga \n",
      "Proccesing Record 347 of set | amderma \n",
      "amderma not found. Skipping...\n",
      "Proccesing Record 348 of set | kaitangata \n",
      "Proccesing Record 349 of set | santa maria \n",
      "Proccesing Record 350 of set | iberia \n",
      "Proccesing Record 351 of set | cap malheureux \n",
      "Proccesing Record 352 of set | paamiut \n",
      "Proccesing Record 353 of set | silly \n",
      "Proccesing Record 354 of set | cehegin \n",
      "Proccesing Record 355 of set | cagayan de tawi-tawi \n",
      "cagayan de tawi-tawi not found. Skipping...\n",
      "Proccesing Record 356 of set | parksville \n",
      "Proccesing Record 357 of set | coloso \n",
      "Proccesing Record 358 of set | vanimo \n",
      "Proccesing Record 359 of set | sherbakul \n",
      "Proccesing Record 360 of set | misratah \n",
      "Proccesing Record 361 of set | maple creek \n",
      "Proccesing Record 362 of set | luorong \n",
      "Proccesing Record 363 of set | kysyl-syr \n",
      "Proccesing Record 364 of set | puerto del rosario \n",
      "Proccesing Record 365 of set | sao felix do xingu \n",
      "Proccesing Record 366 of set | maceio \n",
      "Proccesing Record 367 of set | abu dhabi \n",
      "Proccesing Record 368 of set | hobyo \n",
      "Proccesing Record 369 of set | emerald \n",
      "Proccesing Record 370 of set | hovd \n",
      "Proccesing Record 371 of set | monte alegre de minas \n",
      "Proccesing Record 372 of set | cayenne \n",
      "Proccesing Record 373 of set | huarmey \n",
      "Proccesing Record 374 of set | porto velho \n",
      "Proccesing Record 375 of set | komsomolskiy \n",
      "Proccesing Record 376 of set | ivanivka \n",
      "Proccesing Record 377 of set | hailar \n",
      "Proccesing Record 378 of set | thinadhoo \n"
     ]
    },
    {
     "name": "stdout",
     "output_type": "stream",
     "text": [
      "Proccesing Record 379 of set | san patricio \n",
      "Proccesing Record 380 of set | larsnes \n",
      "Proccesing Record 381 of set | harnoli \n",
      "Proccesing Record 382 of set | pochutla \n",
      "Proccesing Record 383 of set | noumea \n",
      "Proccesing Record 384 of set | dakar \n",
      "Proccesing Record 385 of set | shkotovo-26 \n",
      "shkotovo-26 not found. Skipping...\n",
      "Proccesing Record 386 of set | hambantota \n",
      "Proccesing Record 387 of set | port blair \n",
      "Proccesing Record 388 of set | hofn \n",
      "Proccesing Record 389 of set | la ronge \n",
      "Proccesing Record 390 of set | grants \n",
      "Proccesing Record 391 of set | paka \n",
      "Proccesing Record 392 of set | yeppoon \n",
      "Proccesing Record 393 of set | mala \n",
      "Proccesing Record 394 of set | askarovo \n",
      "Proccesing Record 395 of set | maniitsoq \n",
      "Proccesing Record 396 of set | salalah \n",
      "Proccesing Record 397 of set | boyolangu \n",
      "Proccesing Record 398 of set | beloha \n",
      "Proccesing Record 399 of set | carutapera \n",
      "Proccesing Record 400 of set | port moresby \n",
      "Proccesing Record 401 of set | novo aripuana \n",
      "Proccesing Record 402 of set | kerman \n",
      "Proccesing Record 403 of set | poya \n",
      "Proccesing Record 404 of set | okha \n",
      "Proccesing Record 405 of set | acajutla \n",
      "Proccesing Record 406 of set | konskie \n",
      "Proccesing Record 407 of set | wairoa \n",
      "Proccesing Record 408 of set | kirkwall \n",
      "Proccesing Record 409 of set | scottsbluff \n",
      "Proccesing Record 410 of set | san quintin \n",
      "Proccesing Record 411 of set | vidim \n",
      "Proccesing Record 412 of set | tasiilaq \n",
      "Proccesing Record 413 of set | calama \n",
      "Proccesing Record 414 of set | mersing \n",
      "Proccesing Record 415 of set | ust-tsilma \n",
      "Proccesing Record 416 of set | filiatra \n",
      "Proccesing Record 417 of set | trenggalek \n",
      "Proccesing Record 418 of set | ngunguru \n",
      "Proccesing Record 419 of set | jalalabad \n",
      "Proccesing Record 420 of set | los llanos de aridane \n",
      "Proccesing Record 421 of set | moa \n",
      "Proccesing Record 422 of set | fairbanks \n",
      "Proccesing Record 423 of set | tsihombe \n",
      "tsihombe not found. Skipping...\n",
      "Proccesing Record 424 of set | srednekolymsk \n",
      "Proccesing Record 425 of set | belomorsk \n",
      "Proccesing Record 426 of set | contamana \n",
      "Proccesing Record 427 of set | brae \n",
      "Proccesing Record 428 of set | barroualie \n",
      "barroualie not found. Skipping...\n",
      "Proccesing Record 429 of set | tumannyy \n",
      "tumannyy not found. Skipping...\n",
      "Proccesing Record 430 of set | boa vista \n",
      "Proccesing Record 431 of set | roros \n",
      "Proccesing Record 432 of set | karauzyak \n",
      "karauzyak not found. Skipping...\n",
      "Proccesing Record 433 of set | ca mau \n",
      "Proccesing Record 434 of set | biswan \n",
      "Proccesing Record 435 of set | bosobolo \n",
      "Proccesing Record 436 of set | kieta \n",
      "Proccesing Record 437 of set | darhan \n",
      "Proccesing Record 438 of set | viedma \n",
      "Proccesing Record 439 of set | cervo \n",
      "Proccesing Record 440 of set | sentyabrskiy \n",
      "sentyabrskiy not found. Skipping...\n",
      "Proccesing Record 441 of set | kushtagi \n",
      "Proccesing Record 442 of set | faya \n",
      "Proccesing Record 443 of set | nobres \n",
      "Proccesing Record 444 of set | ahipara \n",
      "Proccesing Record 445 of set | auki \n",
      "Proccesing Record 446 of set | michigan city \n",
      "Proccesing Record 447 of set | massillon \n",
      "Proccesing Record 448 of set | luena \n",
      "Proccesing Record 449 of set | belmonte \n",
      "Proccesing Record 450 of set | palabuhanratu \n",
      "palabuhanratu not found. Skipping...\n",
      "Proccesing Record 451 of set | cajazeiras \n",
      "Proccesing Record 452 of set | gat \n",
      "Proccesing Record 453 of set | brewster \n",
      "Proccesing Record 454 of set | nizhneyansk \n",
      "nizhneyansk not found. Skipping...\n",
      "Proccesing Record 455 of set | samalaeulu \n",
      "samalaeulu not found. Skipping...\n",
      "Proccesing Record 456 of set | thoen \n",
      "Proccesing Record 457 of set | manokwari \n",
      "Proccesing Record 458 of set | tasbuget \n",
      "tasbuget not found. Skipping...\n",
      "Proccesing Record 459 of set | khokhlovo \n",
      "Proccesing Record 460 of set | aranos \n",
      "Proccesing Record 461 of set | roald \n",
      "Proccesing Record 462 of set | zhangye \n",
      "Proccesing Record 463 of set | madang \n",
      "Proccesing Record 464 of set | soyo \n",
      "Proccesing Record 465 of set | lagos \n",
      "Proccesing Record 466 of set | montana \n",
      "Proccesing Record 467 of set | cazaje \n",
      "cazaje not found. Skipping...\n",
      "Proccesing Record 468 of set | manggar \n",
      "Proccesing Record 469 of set | labuhan \n",
      "Proccesing Record 470 of set | pantelho \n",
      "Proccesing Record 471 of set | dingle \n",
      "Proccesing Record 472 of set | high level \n",
      "Proccesing Record 473 of set | mahibadhoo \n",
      "Proccesing Record 474 of set | celestun \n",
      "Proccesing Record 475 of set | latung \n",
      "Proccesing Record 476 of set | itoman \n",
      "Proccesing Record 477 of set | smithers \n",
      "Proccesing Record 478 of set | padang \n",
      "Proccesing Record 479 of set | port shepstone \n",
      "Proccesing Record 480 of set | sataua \n",
      "sataua not found. Skipping...\n",
      "Proccesing Record 481 of set | sur \n",
      "Proccesing Record 482 of set | abalak \n",
      "Proccesing Record 483 of set | andenes \n",
      "Proccesing Record 484 of set | itaituba \n",
      "Proccesing Record 485 of set | saint-joseph \n",
      "Proccesing Record 486 of set | miraflores \n",
      "Proccesing Record 487 of set | batagay-alyta \n",
      "Proccesing Record 488 of set | kerki \n",
      "kerki not found. Skipping...\n",
      "Proccesing Record 489 of set | amapa \n",
      "Proccesing Record 490 of set | lima \n",
      "Proccesing Record 491 of set | tiznit \n",
      "Proccesing Record 492 of set | srivardhan \n",
      "Proccesing Record 493 of set | poum \n",
      "Proccesing Record 494 of set | kerteh \n",
      "kerteh not found. Skipping...\n",
      "Proccesing Record 495 of set | sao gabriel \n",
      "Proccesing Record 496 of set | chebenki \n",
      "Proccesing Record 497 of set | inisa \n",
      "Proccesing Record 498 of set | umm lajj \n",
      "Proccesing Record 499 of set | grootfontein \n",
      "Proccesing Record 500 of set | da nang \n",
      "Proccesing Record 501 of set | vao \n",
      "Proccesing Record 502 of set | borujerd \n",
      "Proccesing Record 503 of set | samarkand \n",
      "Proccesing Record 504 of set | kloulklubed \n",
      "Proccesing Record 505 of set | kaeo \n",
      "Proccesing Record 506 of set | vestmannaeyjar \n",
      "Proccesing Record 507 of set | anloga \n",
      "Proccesing Record 508 of set | vilyuysk \n",
      "Proccesing Record 509 of set | innisfail \n",
      "Proccesing Record 510 of set | bukama \n",
      "Proccesing Record 511 of set | constitucion \n",
      "Proccesing Record 512 of set | cucer \n",
      "cucer not found. Skipping...\n",
      "Proccesing Record 513 of set | kamaishi \n",
      "Proccesing Record 514 of set | hearst \n",
      "Proccesing Record 515 of set | nisia floresta \n",
      "Proccesing Record 516 of set | bronnoysund \n",
      "Proccesing Record 517 of set | vila franca do campo \n",
      "Proccesing Record 518 of set | atlantic beach \n",
      "Proccesing Record 519 of set | mizan teferi \n",
      "Proccesing Record 520 of set | heide \n",
      "Proccesing Record 521 of set | karamea \n",
      "karamea not found. Skipping...\n",
      "Proccesing Record 522 of set | suhut \n",
      "Proccesing Record 523 of set | puerto madryn \n",
      "Proccesing Record 524 of set | bocas del toro \n",
      "Proccesing Record 525 of set | sorland \n",
      "Proccesing Record 526 of set | aporawan \n",
      "aporawan not found. Skipping...\n",
      "Proccesing Record 527 of set | bud \n",
      "Proccesing Record 528 of set | aksarka \n",
      "Proccesing Record 529 of set | conakry \n",
      "Proccesing Record 530 of set | neuquen \n",
      "Proccesing Record 531 of set | visby \n",
      "Proccesing Record 532 of set | port augusta \n",
      "Proccesing Record 533 of set | saint-augustin \n",
      "Proccesing Record 534 of set | podor \n",
      "Proccesing Record 535 of set | filingue \n",
      "Proccesing Record 536 of set | mrirt \n",
      "mrirt not found. Skipping...\n",
      "Proccesing Record 537 of set | myitkyina \n",
      "Proccesing Record 538 of set | tshane \n",
      "Proccesing Record 539 of set | huntsville \n",
      "Proccesing Record 540 of set | aljezur \n",
      "Proccesing Record 541 of set | poros \n",
      "Proccesing Record 542 of set | parras \n",
      "parras not found. Skipping...\n",
      "Proccesing Record 543 of set | richards bay \n",
      "Proccesing Record 544 of set | phalaborwa \n",
      "Proccesing Record 545 of set | colares \n",
      "Proccesing Record 546 of set | la palma \n",
      "Proccesing Record 547 of set | shelburne \n",
      "Proccesing Record 548 of set | cairns \n",
      "Proccesing Record 549 of set | talaya \n",
      "Proccesing Record 550 of set | sedalia \n",
      "Proccesing Record 551 of set | illintsi \n",
      "Proccesing Record 552 of set | hampton \n",
      "Proccesing Record 553 of set | urumqi \n",
      "Proccesing Record 554 of set | angoram \n",
      "Proccesing Record 555 of set | godollo \n",
      "Proccesing Record 556 of set | woodward \n",
      "Proccesing Record 557 of set | balintore \n",
      "Proccesing Record 558 of set | evensk \n",
      "Proccesing Record 559 of set | doctor mora \n",
      "Proccesing Record 560 of set | barahona \n",
      "Proccesing Record 561 of set | itupiranga \n",
      "Proccesing Record 562 of set | vista hermosa \n",
      "Proccesing Record 563 of set | santa luzia \n",
      "Proccesing Record 564 of set | karratha \n",
      "Proccesing Record 565 of set | tobe \n"
     ]
    },
    {
     "name": "stdout",
     "output_type": "stream",
     "text": [
      "Proccesing Record 566 of set | parauna \n",
      "Proccesing Record 567 of set | tuy hoa \n",
      "Proccesing Record 568 of set | tabou \n",
      "Proccesing Record 569 of set | taikang \n",
      "Proccesing Record 570 of set | samana \n",
      "Proccesing Record 571 of set | alta \n",
      "Proccesing Record 572 of set | mae sai \n",
      "Proccesing Record 573 of set | fare \n",
      "Proccesing Record 574 of set | doha \n",
      "Proccesing Record 575 of set | sonoita \n",
      "Proccesing Record 576 of set | dedza \n",
      "Proccesing Record 577 of set | rantepao \n",
      "Proccesing Record 578 of set | marcona \n",
      "marcona not found. Skipping...\n",
      "Proccesing Record 579 of set | san juan \n",
      "Proccesing Record 580 of set | bissora \n",
      "Proccesing Record 581 of set | chekmagush \n",
      "Proccesing Record 582 of set | kingsport \n",
      "Proccesing Record 583 of set | chapais \n",
      "Proccesing Record 584 of set | bolungarvik \n",
      "bolungarvik not found. Skipping...\n",
      "Proccesing Record 585 of set | jatiroto \n",
      "Proccesing Record 586 of set | bafq \n",
      "Proccesing Record 587 of set | genhe \n",
      "Proccesing Record 588 of set | tawnat \n",
      "tawnat not found. Skipping...\n",
      "Proccesing Record 589 of set | maku \n",
      "Proccesing Record 590 of set | lensk \n",
      "Proccesing Record 591 of set | lumphat \n",
      "Proccesing Record 592 of set | kavaratti \n",
      "Proccesing Record 593 of set | saint-francois \n",
      "Proccesing Record 594 of set | meulaboh \n",
      "Proccesing Record 595 of set | qujing \n",
      "Proccesing Record 596 of set | taoudenni \n",
      "Proccesing Record 597 of set | thika \n",
      "Proccesing Record 598 of set | kosh-agach \n",
      "Proccesing Record 599 of set | ambon \n",
      "Proccesing Record 600 of set | keetmanshoop \n",
      "Proccesing Record 601 of set | horta \n",
      "Proccesing Record 602 of set | tamandare \n",
      "Proccesing Record 603 of set | mandalgovi \n",
      "Proccesing Record 604 of set | tricase \n",
      "Proccesing Record 605 of set | jaleswar \n",
      "Proccesing Record 606 of set | leningradskiy \n",
      "Proccesing Record 607 of set | warqla \n",
      "warqla not found. Skipping...\n",
      "Proccesing Record 608 of set | baoro \n",
      "Proccesing Record 609 of set | khasan \n",
      "Proccesing Record 610 of set | atmakur \n",
      "Proccesing Record 611 of set | ise \n",
      "Proccesing Record 612 of set | luanda \n",
      "Proccesing Record 613 of set | kalangala \n",
      "Proccesing Record 614 of set | dzhusaly \n",
      "dzhusaly not found. Skipping...\n",
      "Proccesing Record 615 of set | tura \n",
      "Proccesing Record 616 of set | providencia \n",
      "Proccesing Record 617 of set | nador \n",
      "Proccesing Record 618 of set | bereda \n",
      "Proccesing Record 619 of set | longlac \n",
      "longlac not found. Skipping...\n",
      "Proccesing Record 620 of set | coquimbo \n",
      "Proccesing Record 621 of set | kuusankoski \n",
      "Proccesing Record 622 of set | dungarpur \n",
      "Proccesing Record 623 of set | santa cruz del sur \n",
      "Proccesing Record 624 of set | dodge city \n",
      "Proccesing Record 625 of set | tacna \n"
     ]
    }
   ],
   "source": [
    "#Request the data for all the cities listed in the data frame\n",
    "for index, row in city_df.iterrows():\n",
    "    #get the city name from df \n",
    "    city=row['City']\n",
    "    #Set the url\n",
    "    url=f\"http://api.openweathermap.org/data/2.5/weather?q={city}&units=metric&APPID={weather_api_key}\"\n",
    "    #request the data from api \n",
    "    response=requests.get(url).json()\n",
    "    \n",
    "    try:\n",
    "        \n",
    "        print(f\"Proccesing Record {index} of set | {city} \")\n",
    "        \n",
    "        city_df.loc[index, 'Cloudiness'] = response[\"clouds\"][\"all\"]\n",
    "        city_df.loc[index, 'Country'] = response[\"sys\"][\"country\"]\n",
    "        city_df.loc[index, 'Date'] = response[\"dt\"]\n",
    "        city_df.loc[index, 'Humidity'] = response[\"main\"][\"humidity\"]\n",
    "        city_df.loc[index, 'Lat'] = response[\"coord\"][\"lat\"]\n",
    "        city_df.loc[index, 'Lng'] = response[\"coord\"][\"lon\"]\n",
    "        city_df.loc[index, 'Max Temp'] = response[\"main\"][\"temp_max\"]\n",
    "        city_df.loc[index, 'Wind Speed'] =response[\"wind\"][\"speed\"]\n",
    "        \n",
    "    except (KeyError, IndexError):\n",
    "        \n",
    "        print(f\"{city} not found. Skipping...\")\n",
    "   "
   ]
  },
  {
   "cell_type": "code",
   "execution_count": 14,
   "metadata": {
    "scrolled": true
   },
   "outputs": [
    {
     "data": {
      "text/html": [
       "<div>\n",
       "<style scoped>\n",
       "    .dataframe tbody tr th:only-of-type {\n",
       "        vertical-align: middle;\n",
       "    }\n",
       "\n",
       "    .dataframe tbody tr th {\n",
       "        vertical-align: top;\n",
       "    }\n",
       "\n",
       "    .dataframe thead th {\n",
       "        text-align: right;\n",
       "    }\n",
       "</style>\n",
       "<table border=\"1\" class=\"dataframe\">\n",
       "  <thead>\n",
       "    <tr style=\"text-align: right;\">\n",
       "      <th></th>\n",
       "      <th>City</th>\n",
       "      <th>Cloudiness</th>\n",
       "      <th>Country</th>\n",
       "      <th>Date</th>\n",
       "      <th>Humidity</th>\n",
       "      <th>Lat</th>\n",
       "      <th>Lng</th>\n",
       "      <th>Max Temp</th>\n",
       "      <th>Wind Speed</th>\n",
       "    </tr>\n",
       "  </thead>\n",
       "  <tbody>\n",
       "    <tr>\n",
       "      <th>0</th>\n",
       "      <td>ushuaia</td>\n",
       "      <td>75</td>\n",
       "      <td>AR</td>\n",
       "      <td>1589461788</td>\n",
       "      <td>75</td>\n",
       "      <td>-54.8</td>\n",
       "      <td>-68.3</td>\n",
       "      <td>7</td>\n",
       "      <td>2.6</td>\n",
       "    </tr>\n",
       "    <tr>\n",
       "      <th>1</th>\n",
       "      <td>cape town</td>\n",
       "      <td>20</td>\n",
       "      <td>ZA</td>\n",
       "      <td>1589461628</td>\n",
       "      <td>52</td>\n",
       "      <td>-33.93</td>\n",
       "      <td>18.42</td>\n",
       "      <td>23.33</td>\n",
       "      <td>2.6</td>\n",
       "    </tr>\n",
       "    <tr>\n",
       "      <th>2</th>\n",
       "      <td>puerto ayora</td>\n",
       "      <td>91</td>\n",
       "      <td>EC</td>\n",
       "      <td>1589461789</td>\n",
       "      <td>93</td>\n",
       "      <td>-0.74</td>\n",
       "      <td>-90.35</td>\n",
       "      <td>23.89</td>\n",
       "      <td>0.89</td>\n",
       "    </tr>\n",
       "    <tr>\n",
       "      <th>3</th>\n",
       "      <td>dikson</td>\n",
       "      <td>0</td>\n",
       "      <td>RU</td>\n",
       "      <td>1589461789</td>\n",
       "      <td>97</td>\n",
       "      <td>73.51</td>\n",
       "      <td>80.55</td>\n",
       "      <td>-2.98</td>\n",
       "      <td>4.69</td>\n",
       "    </tr>\n",
       "    <tr>\n",
       "      <th>4</th>\n",
       "      <td>pisco</td>\n",
       "      <td>90</td>\n",
       "      <td>PE</td>\n",
       "      <td>1589461789</td>\n",
       "      <td>88</td>\n",
       "      <td>-13.7</td>\n",
       "      <td>-76.22</td>\n",
       "      <td>18</td>\n",
       "      <td>3.6</td>\n",
       "    </tr>\n",
       "  </tbody>\n",
       "</table>\n",
       "</div>"
      ],
      "text/plain": [
       "           City Cloudiness Country        Date Humidity    Lat    Lng  \\\n",
       "0       ushuaia         75      AR  1589461788       75  -54.8  -68.3   \n",
       "1     cape town         20      ZA  1589461628       52 -33.93  18.42   \n",
       "2  puerto ayora         91      EC  1589461789       93  -0.74 -90.35   \n",
       "3        dikson          0      RU  1589461789       97  73.51  80.55   \n",
       "4         pisco         90      PE  1589461789       88  -13.7 -76.22   \n",
       "\n",
       "  Max Temp Wind Speed  \n",
       "0        7        2.6  \n",
       "1    23.33        2.6  \n",
       "2    23.89       0.89  \n",
       "3    -2.98       4.69  \n",
       "4       18        3.6  "
      ]
     },
     "execution_count": 14,
     "metadata": {},
     "output_type": "execute_result"
    }
   ],
   "source": [
    "#display the dataframe filled\n",
    "city_df.head()"
   ]
  },
  {
   "cell_type": "code",
   "execution_count": 15,
   "metadata": {},
   "outputs": [],
   "source": [
    " city_df = city_df.loc[city_df[\"Cloudiness\"] != \"\"]"
   ]
  },
  {
   "cell_type": "code",
   "execution_count": 16,
   "metadata": {},
   "outputs": [
    {
     "data": {
      "text/plain": [
       "City          576\n",
       "Cloudiness    576\n",
       "Country       576\n",
       "Date          576\n",
       "Humidity      576\n",
       "Lat           576\n",
       "Lng           576\n",
       "Max Temp      576\n",
       "Wind Speed    576\n",
       "dtype: int64"
      ]
     },
     "execution_count": 16,
     "metadata": {},
     "output_type": "execute_result"
    }
   ],
   "source": [
    "city_df.count()\n"
   ]
  },
  {
   "cell_type": "code",
   "execution_count": 17,
   "metadata": {
    "scrolled": false
   },
   "outputs": [
    {
     "data": {
      "text/plain": [
       "City          object\n",
       "Cloudiness    object\n",
       "Country       object\n",
       "Date          object\n",
       "Humidity      object\n",
       "Lat           object\n",
       "Lng           object\n",
       "Max Temp      object\n",
       "Wind Speed    object\n",
       "dtype: object"
      ]
     },
     "execution_count": 17,
     "metadata": {},
     "output_type": "execute_result"
    }
   ],
   "source": [
    "#Check the type of each data \n",
    "city_df.dtypes\n"
   ]
  },
  {
   "cell_type": "code",
   "execution_count": 18,
   "metadata": {},
   "outputs": [
    {
     "data": {
      "text/plain": [
       "City           object\n",
       "Cloudiness    float64\n",
       "Country        object\n",
       "Date           object\n",
       "Humidity      float64\n",
       "Lat           float64\n",
       "Lng           float64\n",
       "Max Temp      float64\n",
       "Wind Speed    float64\n",
       "dtype: object"
      ]
     },
     "execution_count": 18,
     "metadata": {},
     "output_type": "execute_result"
    }
   ],
   "source": [
    "city_df.astype({'Lat': 'float64','Lng': 'float64','Cloudiness':'float64','Max Temp':'float64','Wind Speed':'float64','Humidity':'float64'}).dtypes\n"
   ]
  },
  {
   "cell_type": "code",
   "execution_count": 26,
   "metadata": {},
   "outputs": [
    {
     "data": {
      "text/html": [
       "<div>\n",
       "<style scoped>\n",
       "    .dataframe tbody tr th:only-of-type {\n",
       "        vertical-align: middle;\n",
       "    }\n",
       "\n",
       "    .dataframe tbody tr th {\n",
       "        vertical-align: top;\n",
       "    }\n",
       "\n",
       "    .dataframe thead th {\n",
       "        text-align: right;\n",
       "    }\n",
       "</style>\n",
       "<table border=\"1\" class=\"dataframe\">\n",
       "  <thead>\n",
       "    <tr style=\"text-align: right;\">\n",
       "      <th></th>\n",
       "      <th>City</th>\n",
       "      <th>Cloudiness</th>\n",
       "      <th>Country</th>\n",
       "      <th>Date</th>\n",
       "      <th>Humidity</th>\n",
       "      <th>Lat</th>\n",
       "      <th>Lng</th>\n",
       "      <th>Max Temp</th>\n",
       "      <th>Wind Speed</th>\n",
       "    </tr>\n",
       "  </thead>\n",
       "  <tbody>\n",
       "    <tr>\n",
       "      <th>0</th>\n",
       "      <td>ushuaia</td>\n",
       "      <td>75</td>\n",
       "      <td>AR</td>\n",
       "      <td>1589461788</td>\n",
       "      <td>75</td>\n",
       "      <td>-54.8</td>\n",
       "      <td>-68.3</td>\n",
       "      <td>7</td>\n",
       "      <td>2.6</td>\n",
       "    </tr>\n",
       "    <tr>\n",
       "      <th>1</th>\n",
       "      <td>cape town</td>\n",
       "      <td>20</td>\n",
       "      <td>ZA</td>\n",
       "      <td>1589461628</td>\n",
       "      <td>52</td>\n",
       "      <td>-33.93</td>\n",
       "      <td>18.42</td>\n",
       "      <td>23.33</td>\n",
       "      <td>2.6</td>\n",
       "    </tr>\n",
       "    <tr>\n",
       "      <th>2</th>\n",
       "      <td>puerto ayora</td>\n",
       "      <td>91</td>\n",
       "      <td>EC</td>\n",
       "      <td>1589461789</td>\n",
       "      <td>93</td>\n",
       "      <td>-0.74</td>\n",
       "      <td>-90.35</td>\n",
       "      <td>23.89</td>\n",
       "      <td>0.89</td>\n",
       "    </tr>\n",
       "    <tr>\n",
       "      <th>3</th>\n",
       "      <td>dikson</td>\n",
       "      <td>0</td>\n",
       "      <td>RU</td>\n",
       "      <td>1589461789</td>\n",
       "      <td>97</td>\n",
       "      <td>73.51</td>\n",
       "      <td>80.55</td>\n",
       "      <td>-2.98</td>\n",
       "      <td>4.69</td>\n",
       "    </tr>\n",
       "    <tr>\n",
       "      <th>4</th>\n",
       "      <td>pisco</td>\n",
       "      <td>90</td>\n",
       "      <td>PE</td>\n",
       "      <td>1589461789</td>\n",
       "      <td>88</td>\n",
       "      <td>-13.7</td>\n",
       "      <td>-76.22</td>\n",
       "      <td>18</td>\n",
       "      <td>3.6</td>\n",
       "    </tr>\n",
       "  </tbody>\n",
       "</table>\n",
       "</div>"
      ],
      "text/plain": [
       "           City Cloudiness Country        Date Humidity    Lat    Lng  \\\n",
       "0       ushuaia         75      AR  1589461788       75  -54.8  -68.3   \n",
       "1     cape town         20      ZA  1589461628       52 -33.93  18.42   \n",
       "2  puerto ayora         91      EC  1589461789       93  -0.74 -90.35   \n",
       "3        dikson          0      RU  1589461789       97  73.51  80.55   \n",
       "4         pisco         90      PE  1589461789       88  -13.7 -76.22   \n",
       "\n",
       "  Max Temp Wind Speed  \n",
       "0        7        2.6  \n",
       "1    23.33        2.6  \n",
       "2    23.89       0.89  \n",
       "3    -2.98       4.69  \n",
       "4       18        3.6  "
      ]
     },
     "execution_count": 26,
     "metadata": {},
     "output_type": "execute_result"
    }
   ],
   "source": [
    "city_df.head()"
   ]
  },
  {
   "cell_type": "code",
   "execution_count": 19,
   "metadata": {},
   "outputs": [],
   "source": [
    "city_df.to_csv(output_data_file,index=False)"
   ]
  },
  {
   "cell_type": "markdown",
   "metadata": {},
   "source": [
    "### Plotting the Data\n",
    "* Use proper labeling of the plots using plot titles (including date of analysis) and axes labels.\n",
    "* Save the plotted figures as .pngs."
   ]
  },
  {
   "cell_type": "markdown",
   "metadata": {},
   "source": [
    "#### Latitude vs. Temperature Plot"
   ]
  },
  {
   "cell_type": "code",
   "execution_count": 20,
   "metadata": {
    "scrolled": true
   },
   "outputs": [
    {
     "data": {
      "image/png": "[encoded data removed]",
      "text/plain": [
       "<Figure size 432x288 with 1 Axes>"
      ]
     },
     "metadata": {
      "needs_background": "light"
     },
     "output_type": "display_data"
    }
   ],
   "source": [
    "x = pd.to_numeric(city_df[\"Lat\"])\n",
    "y = pd.to_numeric(city_df[\"Max Temp\"])\n",
    "plt.scatter(x,y,marker=\"o\",color=\"red\")\n",
    "plt.xlabel(\"Latitude\")\n",
    "plt.ylabel(\"Temperature\")\n",
    "plt.title(\"Latitide vs Temperature Plot\")\n",
    "plt.savefig(\"output_data/Latitide vs Temperature Plot.png\")\n",
    "plt.show()"
   ]
  },
  {
   "cell_type": "markdown",
   "metadata": {},
   "source": [
    "#### Latitude vs. Humidity Plot"
   ]
  },
  {
   "cell_type": "code",
   "execution_count": 21,
   "metadata": {},
   "outputs": [
    {
     "data": {
      "image/png": "[encoded data removed]",
      "text/plain": [
       "<Figure size 432x288 with 1 Axes>"
      ]
     },
     "metadata": {
      "needs_background": "light"
     },
     "output_type": "display_data"
    }
   ],
   "source": [
    "x = pd.to_numeric(city_df[\"Lat\"])\n",
    "y = pd.to_numeric(city_df[\"Humidity\"])\n",
    "plt.scatter(x,y,marker=\"^\",color=\"blue\")\n",
    "plt.xlabel(\"Latitude\")\n",
    "plt.ylabel(\"Humidity\")\n",
    "plt.title(\"Latitide vs Humidity Plot\")\n",
    "plt.savefig(\"output_data/Latitide vs Humidity.png\")\n",
    "plt.show()"
   ]
  },
  {
   "cell_type": "markdown",
   "metadata": {},
   "source": [
    "#### Latitude vs. Cloudiness Plot"
   ]
  },
  {
   "cell_type": "code",
   "execution_count": 22,
   "metadata": {},
   "outputs": [
    {
     "data": {
      "image/png": "[encoded data removed]",
      "text/plain": [
       "<Figure size 432x288 with 1 Axes>"
      ]
     },
     "metadata": {
      "needs_background": "light"
     },
     "output_type": "display_data"
    }
   ],
   "source": [
    "x = pd.to_numeric(city_df[\"Lat\"])\n",
    "y = pd.to_numeric(city_df[\"Cloudiness\"])\n",
    "plt.scatter(x,y,marker=\"*\",color=\"green\")\n",
    "plt.xlabel(\"Latitude\")\n",
    "plt.ylabel(\"Cloudiness\")\n",
    "plt.title(\"Latitide vs Cloudiness Plot\")\n",
    "plt.savefig(\"output_data/Latitide vs Cloudiness.png\")\n",
    "plt.show()"
   ]
  },
  {
   "cell_type": "markdown",
   "metadata": {},
   "source": [
    "#### Latitude vs. Wind Speed Plot"
   ]
  },
  {
   "cell_type": "code",
   "execution_count": 23,
   "metadata": {},
   "outputs": [
    {
     "data": {
      "image/png": "[encoded data removed]",
      "text/plain": [
       "<Figure size 432x288 with 1 Axes>"
      ]
     },
     "metadata": {
      "needs_background": "light"
     },
     "output_type": "display_data"
    }
   ],
   "source": [
    "x = pd.to_numeric(city_df[\"Lat\"])\n",
    "y = pd.to_numeric(city_df[\"Wind Speed\"])\n",
    "plt.scatter(x,y,marker=\"x\",color=\"green\")\n",
    "plt.xlabel(\"Latitude\")\n",
    "plt.ylabel(\"Wind Speed\")\n",
    "plt.title(\"Latitide vs Wind Speed Plot\")\n",
    "plt.savefig(\"output_data/Latitide vs Wind Speed.png\")\n",
    "plt.show()"
   ]
  },
  {
   "cell_type": "markdown",
   "metadata": {},
   "source": [
    "## Linear Regression"
   ]
  },
  {
   "cell_type": "code",
   "execution_count": 40,
   "metadata": {},
   "outputs": [],
   "source": [
    "# OPTIONAL: Create a function to create Linear Regression plots\n",
    "def regfunction(x_values,y_values,title_x,title_y,save_in):\n",
    "\n",
    "    (slope, intercept, rvalue, pvalue, stderr) = linregress(x_values, y_values)\n",
    "    regress_values = x_values * slope + intercept\n",
    "    line_eq = \"y = \" + str(round(slope,2)) + \"x + \" + str(round(intercept,2))\n",
    "    plt.annotate(line_eq,(6,10),fontsize=15,color=\"red\")\n",
    "    plt.plot(x_values,regress_values,\"r-\")\n",
    "    print(f\"The r-squared is: {rvalue}\")\n",
    "    plt.scatter(x_values,y_values)\n",
    "    plt.xlabel(title_x)\n",
    "    plt.ylabel(title_y)\n",
    "    plt.savefig(save_in)\n",
    "    plt.show()\n",
    "    return;"
   ]
  },
  {
   "cell_type": "code",
   "execution_count": 27,
   "metadata": {},
   "outputs": [],
   "source": [
    "# Create\n",
    "# Northern and Southern Hemisphere DataFrames\n",
    "northern_df = city_df.loc[city_df[\"Lat\"]>=0]\n",
    "southern_df = city_df.loc[city_df[\"Lat\"]< 0]"
   ]
  },
  {
   "cell_type": "code",
   "execution_count": 28,
   "metadata": {},
   "outputs": [
    {
     "data": {
      "text/html": [
       "<div>\n",
       "<style scoped>\n",
       "    .dataframe tbody tr th:only-of-type {\n",
       "        vertical-align: middle;\n",
       "    }\n",
       "\n",
       "    .dataframe tbody tr th {\n",
       "        vertical-align: top;\n",
       "    }\n",
       "\n",
       "    .dataframe thead th {\n",
       "        text-align: right;\n",
       "    }\n",
       "</style>\n",
       "<table border=\"1\" class=\"dataframe\">\n",
       "  <thead>\n",
       "    <tr style=\"text-align: right;\">\n",
       "      <th></th>\n",
       "      <th>City</th>\n",
       "      <th>Cloudiness</th>\n",
       "      <th>Country</th>\n",
       "      <th>Date</th>\n",
       "      <th>Humidity</th>\n",
       "      <th>Lat</th>\n",
       "      <th>Lng</th>\n",
       "      <th>Max Temp</th>\n",
       "      <th>Wind Speed</th>\n",
       "    </tr>\n",
       "  </thead>\n",
       "  <tbody>\n",
       "    <tr>\n",
       "      <th>3</th>\n",
       "      <td>dikson</td>\n",
       "      <td>0</td>\n",
       "      <td>RU</td>\n",
       "      <td>1589461789</td>\n",
       "      <td>97</td>\n",
       "      <td>73.51</td>\n",
       "      <td>80.55</td>\n",
       "      <td>-2.98</td>\n",
       "      <td>4.69</td>\n",
       "    </tr>\n",
       "    <tr>\n",
       "      <th>6</th>\n",
       "      <td>wawa</td>\n",
       "      <td>0</td>\n",
       "      <td>NG</td>\n",
       "      <td>1589461790</td>\n",
       "      <td>32</td>\n",
       "      <td>9.9</td>\n",
       "      <td>4.42</td>\n",
       "      <td>38.52</td>\n",
       "      <td>1.64</td>\n",
       "    </tr>\n",
       "    <tr>\n",
       "      <th>10</th>\n",
       "      <td>samandag</td>\n",
       "      <td>0</td>\n",
       "      <td>TR</td>\n",
       "      <td>1589461790</td>\n",
       "      <td>17</td>\n",
       "      <td>36.08</td>\n",
       "      <td>35.98</td>\n",
       "      <td>35</td>\n",
       "      <td>2.1</td>\n",
       "    </tr>\n",
       "    <tr>\n",
       "      <th>11</th>\n",
       "      <td>saint george</td>\n",
       "      <td>1</td>\n",
       "      <td>US</td>\n",
       "      <td>1589461675</td>\n",
       "      <td>32</td>\n",
       "      <td>37.1</td>\n",
       "      <td>-113.58</td>\n",
       "      <td>15</td>\n",
       "      <td>2.6</td>\n",
       "    </tr>\n",
       "    <tr>\n",
       "      <th>12</th>\n",
       "      <td>yellowknife</td>\n",
       "      <td>75</td>\n",
       "      <td>CA</td>\n",
       "      <td>1589461791</td>\n",
       "      <td>78</td>\n",
       "      <td>62.46</td>\n",
       "      <td>-114.35</td>\n",
       "      <td>-9</td>\n",
       "      <td>3.6</td>\n",
       "    </tr>\n",
       "  </tbody>\n",
       "</table>\n",
       "</div>"
      ],
      "text/plain": [
       "            City Cloudiness Country        Date Humidity    Lat     Lng  \\\n",
       "3         dikson          0      RU  1589461789       97  73.51   80.55   \n",
       "6           wawa          0      NG  1589461790       32    9.9    4.42   \n",
       "10      samandag          0      TR  1589461790       17  36.08   35.98   \n",
       "11  saint george          1      US  1589461675       32   37.1 -113.58   \n",
       "12   yellowknife         75      CA  1589461791       78  62.46 -114.35   \n",
       "\n",
       "   Max Temp Wind Speed  \n",
       "3     -2.98       4.69  \n",
       "6     38.52       1.64  \n",
       "10       35        2.1  \n",
       "11       15        2.6  \n",
       "12       -9        3.6  "
      ]
     },
     "execution_count": 28,
     "metadata": {},
     "output_type": "execute_result"
    }
   ],
   "source": [
    "northern_df.head()\n"
   ]
  },
  {
   "cell_type": "code",
   "execution_count": 35,
   "metadata": {
    "scrolled": true
   },
   "outputs": [
    {
     "data": {
      "text/html": [
       "<div>\n",
       "<style scoped>\n",
       "    .dataframe tbody tr th:only-of-type {\n",
       "        vertical-align: middle;\n",
       "    }\n",
       "\n",
       "    .dataframe tbody tr th {\n",
       "        vertical-align: top;\n",
       "    }\n",
       "\n",
       "    .dataframe thead th {\n",
       "        text-align: right;\n",
       "    }\n",
       "</style>\n",
       "<table border=\"1\" class=\"dataframe\">\n",
       "  <thead>\n",
       "    <tr style=\"text-align: right;\">\n",
       "      <th></th>\n",
       "      <th>City</th>\n",
       "      <th>Cloudiness</th>\n",
       "      <th>Country</th>\n",
       "      <th>Date</th>\n",
       "      <th>Humidity</th>\n",
       "      <th>Lat</th>\n",
       "      <th>Lng</th>\n",
       "      <th>Max Temp</th>\n",
       "      <th>Wind Speed</th>\n",
       "    </tr>\n",
       "  </thead>\n",
       "  <tbody>\n",
       "    <tr>\n",
       "      <th>0</th>\n",
       "      <td>ushuaia</td>\n",
       "      <td>75</td>\n",
       "      <td>AR</td>\n",
       "      <td>1589461788</td>\n",
       "      <td>75</td>\n",
       "      <td>-54.8</td>\n",
       "      <td>-68.3</td>\n",
       "      <td>7</td>\n",
       "      <td>2.6</td>\n",
       "    </tr>\n",
       "    <tr>\n",
       "      <th>1</th>\n",
       "      <td>cape town</td>\n",
       "      <td>20</td>\n",
       "      <td>ZA</td>\n",
       "      <td>1589461628</td>\n",
       "      <td>52</td>\n",
       "      <td>-33.93</td>\n",
       "      <td>18.42</td>\n",
       "      <td>23.33</td>\n",
       "      <td>2.6</td>\n",
       "    </tr>\n",
       "    <tr>\n",
       "      <th>2</th>\n",
       "      <td>puerto ayora</td>\n",
       "      <td>91</td>\n",
       "      <td>EC</td>\n",
       "      <td>1589461789</td>\n",
       "      <td>93</td>\n",
       "      <td>-0.74</td>\n",
       "      <td>-90.35</td>\n",
       "      <td>23.89</td>\n",
       "      <td>0.89</td>\n",
       "    </tr>\n",
       "    <tr>\n",
       "      <th>4</th>\n",
       "      <td>pisco</td>\n",
       "      <td>90</td>\n",
       "      <td>PE</td>\n",
       "      <td>1589461789</td>\n",
       "      <td>88</td>\n",
       "      <td>-13.7</td>\n",
       "      <td>-76.22</td>\n",
       "      <td>18</td>\n",
       "      <td>3.6</td>\n",
       "    </tr>\n",
       "    <tr>\n",
       "      <th>7</th>\n",
       "      <td>punta arenas</td>\n",
       "      <td>90</td>\n",
       "      <td>CL</td>\n",
       "      <td>1589461604</td>\n",
       "      <td>93</td>\n",
       "      <td>-53.15</td>\n",
       "      <td>-70.92</td>\n",
       "      <td>2</td>\n",
       "      <td>1.29</td>\n",
       "    </tr>\n",
       "  </tbody>\n",
       "</table>\n",
       "</div>"
      ],
      "text/plain": [
       "           City Cloudiness Country        Date Humidity    Lat    Lng  \\\n",
       "0       ushuaia         75      AR  1589461788       75  -54.8  -68.3   \n",
       "1     cape town         20      ZA  1589461628       52 -33.93  18.42   \n",
       "2  puerto ayora         91      EC  1589461789       93  -0.74 -90.35   \n",
       "4         pisco         90      PE  1589461789       88  -13.7 -76.22   \n",
       "7  punta arenas         90      CL  1589461604       93 -53.15 -70.92   \n",
       "\n",
       "  Max Temp Wind Speed  \n",
       "0        7        2.6  \n",
       "1    23.33        2.6  \n",
       "2    23.89       0.89  \n",
       "4       18        3.6  \n",
       "7        2       1.29  "
      ]
     },
     "execution_count": 35,
     "metadata": {},
     "output_type": "execute_result"
    }
   ],
   "source": [
    "southern_df.head()"
   ]
  },
  {
   "cell_type": "markdown",
   "metadata": {},
   "source": [
    "####  Northern Hemisphere - Max Temp vs. Latitude Linear Regression"
   ]
  },
  {
   "cell_type": "code",
   "execution_count": 49,
   "metadata": {},
   "outputs": [
    {
     "name": "stdout",
     "output_type": "stream",
     "text": [
      "The r-squared is: -0.8162570666386482\n"
     ]
    },
    {
     "data": {
      "image/png": "[encoded data removed]",
      "text/plain": [
       "<Figure size 432x288 with 1 Axes>"
      ]
     },
     "metadata": {
      "needs_background": "light"
     },
     "output_type": "display_data"
    }
   ],
   "source": [
    "x_values= northern_df[\"Max Temp\"].astype(float)\n",
    "y_values= northern_df[\"Lat\"].astype(float)\n",
    "title_x=\"Max Temp\"\n",
    "title_y=\"Latitude\"\n",
    "save_in=\"output_data/Northern Hemisphere - Max Temp vs. Latitude Linear Regression.png\"\n",
    "regfunction(x_values,y_values,title_x,title_y,save_in)"
   ]
  },
  {
   "cell_type": "markdown",
   "metadata": {},
   "source": [
    "####  Southern Hemisphere - Max Temp vs. Latitude Linear Regression"
   ]
  },
  {
   "cell_type": "code",
   "execution_count": 55,
   "metadata": {},
   "outputs": [
    {
     "name": "stdout",
     "output_type": "stream",
     "text": [
      "The r-squared is: 0.8166925230969369\n"
     ]
    },
    {
     "data": {
      "image/png": "[encoded data removed]",
      "text/plain": [
       "<Figure size 432x288 with 1 Axes>"
      ]
     },
     "metadata": {
      "needs_background": "light"
     },
     "output_type": "display_data"
    }
   ],
   "source": [
    "x_values= southern_df[\"Max Temp\"].astype(float)\n",
    "y_values= southern_df[\"Lat\"].astype(float)\n",
    "title_x=\"Max Temp\"\n",
    "title_y=\"Latitude\"\n",
    "save_in=\"output_data/Southern Hemisphere - Max Temp vs. Latitude Linear Regression.png\"\n",
    "regfunction(x_values,y_values,title_x,title_y,save_in)"
   ]
  },
  {
   "cell_type": "markdown",
   "metadata": {},
   "source": [
    "####  Northern Hemisphere - Humidity (%) vs. Latitude Linear Regression"
   ]
  },
  {
   "cell_type": "code",
   "execution_count": 56,
   "metadata": {},
   "outputs": [
    {
     "name": "stdout",
     "output_type": "stream",
     "text": [
      "The r-squared is: 0.1257991801822309\n"
     ]
    },
    {
     "data": {
      "image/png": "[encoded data removed]",
      "text/plain": [
       "<Figure size 432x288 with 1 Axes>"
      ]
     },
     "metadata": {
      "needs_background": "light"
     },
     "output_type": "display_data"
    }
   ],
   "source": [
    "x_values= northern_df[\"Humidity\"].astype(float)\n",
    "y_values= northern_df[\"Lat\"].astype(float)\n",
    "title_x=\"Humidity\"\n",
    "title_y=\"Latitude\"\n",
    "save_in=\"output_data/Northern Hemisphere - Humidity vs. Latitude Linear Regression.png\"\n",
    "regfunction(x_values,y_values,title_x,title_y,save_in)"
   ]
  },
  {
   "cell_type": "markdown",
   "metadata": {},
   "source": [
    "####  Southern Hemisphere - Humidity (%) vs. Latitude Linear Regression"
   ]
  },
  {
   "cell_type": "code",
   "execution_count": 57,
   "metadata": {},
   "outputs": [
    {
     "name": "stdout",
     "output_type": "stream",
     "text": [
      "The r-squared is: 0.19567603390050892\n"
     ]
    },
    {
     "data": {
      "image/png": "[encoded data removed]",
      "text/plain": [
       "<Figure size 432x288 with 1 Axes>"
      ]
     },
     "metadata": {
      "needs_background": "light"
     },
     "output_type": "display_data"
    }
   ],
   "source": [
    "x_values= southern_df[\"Humidity\"].astype(float)\n",
    "y_values= southern_df[\"Lat\"].astype(float)\n",
    "title_x=\"Humidity\"\n",
    "title_y=\"Latitude\"\n",
    "save_in=\"output_data/Southern Hemisphere - Humidity vs. Latitude Linear Regression.png\"\n",
    "regfunction(x_values,y_values,title_x,title_y,save_in)"
   ]
  },
  {
   "cell_type": "markdown",
   "metadata": {},
   "source": [
    "####  Northern Hemisphere - Cloudiness (%) vs. Latitude Linear Regression"
   ]
  },
  {
   "cell_type": "code",
   "execution_count": 54,
   "metadata": {},
   "outputs": [
    {
     "name": "stdout",
     "output_type": "stream",
     "text": [
      "The r-squared is: 0.13155635391997836\n"
     ]
    },
    {
     "data": {
      "image/png": "[encoded data removed]",
      "text/plain": [
       "<Figure size 432x288 with 1 Axes>"
      ]
     },
     "metadata": {
      "needs_background": "light"
     },
     "output_type": "display_data"
    }
   ],
   "source": [
    "x_values= northern_df[\"Cloudiness\"].astype(float)\n",
    "y_values= northern_df[\"Lat\"].astype(float)\n",
    "title_x=\"Cloudiness\"\n",
    "title_y=\"Latitude\"\n",
    "save_in=\"output_data/Northern  Hemisphere - Cloudiness vs. Latitude Linear Regression.png\"\n",
    "regfunction(x_values,y_values,title_x,title_y,save_in)"
   ]
  },
  {
   "cell_type": "markdown",
   "metadata": {},
   "source": [
    "####  Southern Hemisphere - Cloudiness (%) vs. Latitude Linear Regression"
   ]
  },
  {
   "cell_type": "code",
   "execution_count": 58,
   "metadata": {},
   "outputs": [
    {
     "name": "stdout",
     "output_type": "stream",
     "text": [
      "The r-squared is: 0.18869905833533843\n"
     ]
    },
    {
     "data": {
      "image/png": "[encoded data removed]",
      "text/plain": [
       "<Figure size 432x288 with 1 Axes>"
      ]
     },
     "metadata": {
      "needs_background": "light"
     },
     "output_type": "display_data"
    }
   ],
   "source": [
    "x_values= southern_df[\"Cloudiness\"].astype(float)\n",
    "y_values= southern_df[\"Lat\"].astype(float)\n",
    "title_x=\"Cloudiness\"\n",
    "title_y=\"Latitude\"\n",
    "save_in=\"output_data/Southern Hemisphere - Cloudiness vs. Latitude Linear Regression.png\"\n",
    "regfunction(x_values,y_values,title_x,title_y,save_in)"
   ]
  },
  {
   "cell_type": "markdown",
   "metadata": {},
   "source": [
    "####  Northern Hemisphere - Wind Speed (mph) vs. Latitude Linear Regression"
   ]
  },
  {
   "cell_type": "code",
   "execution_count": 60,
   "metadata": {},
   "outputs": [
    {
     "name": "stdout",
     "output_type": "stream",
     "text": [
      "The r-squared is: 0.20980971725057915\n"
     ]
    },
    {
     "data": {
      "image/png": "[encoded data removed]",
      "text/plain": [
       "<Figure size 432x288 with 1 Axes>"
      ]
     },
     "metadata": {
      "needs_background": "light"
     },
     "output_type": "display_data"
    }
   ],
   "source": [
    "x_values= northern_df[\"Wind Speed\"].astype(float)\n",
    "y_values= northern_df[\"Lat\"].astype(float)\n",
    "title_x=\"Wind Speed\"\n",
    "title_y=\"Latitude\"\n",
    "save_in=\"output_data/Northern Hemisphere - Wind Speed vs. Latitude Linear Regression.png\"\n",
    "regfunction(x_values,y_values,title_x,title_y,save_in)"
   ]
  },
  {
   "cell_type": "markdown",
   "metadata": {},
   "source": [
    "####  Southern Hemisphere - Wind Speed (mph) vs. Latitude Linear Regression"
   ]
  },
  {
   "cell_type": "code",
   "execution_count": 61,
   "metadata": {},
   "outputs": [
    {
     "name": "stdout",
     "output_type": "stream",
     "text": [
      "The r-squared is: 0.03053638879530625\n"
     ]
    },
    {
     "data": {
      "image/png": "[encoded data removed]",
      "text/plain": [
       "<Figure size 432x288 with 1 Axes>"
      ]
     },
     "metadata": {
      "needs_background": "light"
     },
     "output_type": "display_data"
    }
   ],
   "source": [
    "x_values= southern_df[\"Wind Speed\"].astype(float)\n",
    "y_values= southern_df[\"Lat\"].astype(float)\n",
    "title_x=\"Wind Speed\"\n",
    "title_y=\"Latitude\"\n",
    "save_in=\"output_data/Southern Hemisphere - Wind Speed vs. Latitude Linear Regression.png\"\n",
    "regfunction(x_values,y_values,title_x,title_y,save_in)"
   ]
  }
 ],
 "metadata": {
  "anaconda-cloud": {},
  "kernel_info": {
   "name": "python3"
  },
  "kernelspec": {
   "display_name": "Python 3",
   "language": "python",
   "name": "python3"
  },
  "language_info": {
   "codemirror_mode": {
    "name": "ipython",
    "version": 3
   },
   "file_extension": ".py",
   "mimetype": "text/x-python",
   "name": "python",
   "nbconvert_exporter": "python",
   "pygments_lexer": "ipython3",
   "version": "3.7.6"
  },
  "latex_envs": {
   "LaTeX_envs_menu_present": true,
   "autoclose": false,
   "autocomplete": true,
   "bibliofile": "biblio.bib",
   "cite_by": "apalike",
   "current_citInitial": 1,
   "eqLabelWithNumbers": true,
   "eqNumInitial": 1,
   "hotkeys": {
    "equation": "Ctrl-E",
    "itemize": "Ctrl-I"
   },
   "labels_anchors": false,
   "latex_user_defs": false,
   "report_style_numbering": false,
   "user_envs_cfg": false
  },
  "nteract": {
   "version": "0.12.3"
  }
 },
 "nbformat": 4,
 "nbformat_minor": 2
}
