{
 "cells": [
  {
   "cell_type": "markdown",
   "metadata": {},
   "source": [
    "# WeatherPy\n",
    "----\n",
    "\n",
    "#### Note\n",
    "* Instructions have been included for each segment. You do not have to follow them exactly, but they are included to help you think through the steps."
   ]
  },
  {
   "cell_type": "code",
   "execution_count": 1,
   "metadata": {
    "scrolled": true
   },
   "outputs": [],
   "source": [
    "# Dependencies and Setup\n",
    "import matplotlib.pyplot as plt\n",
    "import pandas as pd\n",
    "import numpy as np\n",
    "import requests\n",
    "import time\n",
    "from scipy.stats import linregress\n",
    "\n",
    "# Import API key\n",
    "from api_keys import weather_api_key\n",
    "\n",
    "# Incorporated citipy to determine city based on latitude and longitude\n",
    "from citipy import citipy\n",
    "\n",
    "# Output File (CSV)\n",
    "output_data_file = \"output_data/cities.csv\"\n",
    "\n",
    "# Range of latitudes and longitudes\n",
    "lat_range = (-90, 90)\n",
    "lng_range = (-180, 180)"
   ]
  },
  {
   "cell_type": "markdown",
   "metadata": {},
   "source": [
    "## Generate Cities List"
   ]
  },
  {
   "cell_type": "code",
   "execution_count": 2,
   "metadata": {},
   "outputs": [
    {
     "data": {
      "text/plain": [
       "585"
      ]
     },
     "execution_count": 2,
     "metadata": {},
     "output_type": "execute_result"
    }
   ],
   "source": [
    "# List for holding lat_lngs and cities\n",
    "lat_lngs = []\n",
    "cities = []\n",
    "\n",
    "# Create a set of random lat and lng combinations\n",
    "lats = np.random.uniform(low=-90.000, high=90.000, size=1500)\n",
    "lngs = np.random.uniform(low=-180.000, high=180.000, size=1500)\n",
    "lat_lngs = zip(lats, lngs)\n",
    "\n",
    "# Identify nearest city for each lat, lng combination\n",
    "for lat_lng in lat_lngs:\n",
    "    city = citipy.nearest_city(lat_lng[0], lat_lng[1]).city_name\n",
    "    \n",
    "    # If the city is unique, then add it to a our cities list\n",
    "    if city not in cities:\n",
    "        cities.append(city)\n",
    "\n",
    "# Print the city count to confirm sufficient count\n",
    "len(cities)"
   ]
  },
  {
   "cell_type": "markdown",
   "metadata": {},
   "source": [
    "### Perform API Calls\n",
    "* Perform a weather check on each city using a series of successive API calls.\n",
    "* Include a print log of each city as it'sbeing processed (with the city number and city name).\n"
   ]
  },
  {
   "cell_type": "code",
   "execution_count": 3,
   "metadata": {},
   "outputs": [],
   "source": [
    "#build the data frame \n",
    "city_df=pd.DataFrame({\"City\":cities})"
   ]
  },
  {
   "cell_type": "code",
   "execution_count": 4,
   "metadata": {},
   "outputs": [
    {
     "data": {
      "text/html": [
       "<div>\n",
       "<style scoped>\n",
       "    .dataframe tbody tr th:only-of-type {\n",
       "        vertical-align: middle;\n",
       "    }\n",
       "\n",
       "    .dataframe tbody tr th {\n",
       "        vertical-align: top;\n",
       "    }\n",
       "\n",
       "    .dataframe thead th {\n",
       "        text-align: right;\n",
       "    }\n",
       "</style>\n",
       "<table border=\"1\" class=\"dataframe\">\n",
       "  <thead>\n",
       "    <tr style=\"text-align: right;\">\n",
       "      <th></th>\n",
       "      <th>City</th>\n",
       "    </tr>\n",
       "  </thead>\n",
       "  <tbody>\n",
       "    <tr>\n",
       "      <th>0</th>\n",
       "      <td>daura</td>\n",
       "    </tr>\n",
       "    <tr>\n",
       "      <th>1</th>\n",
       "      <td>lafiagi</td>\n",
       "    </tr>\n",
       "    <tr>\n",
       "      <th>2</th>\n",
       "      <td>bredasdorp</td>\n",
       "    </tr>\n",
       "    <tr>\n",
       "      <th>3</th>\n",
       "      <td>norman wells</td>\n",
       "    </tr>\n",
       "    <tr>\n",
       "      <th>4</th>\n",
       "      <td>pedernales</td>\n",
       "    </tr>\n",
       "  </tbody>\n",
       "</table>\n",
       "</div>"
      ],
      "text/plain": [
       "           City\n",
       "0         daura\n",
       "1       lafiagi\n",
       "2    bredasdorp\n",
       "3  norman wells\n",
       "4    pedernales"
      ]
     },
     "execution_count": 4,
     "metadata": {},
     "output_type": "execute_result"
    }
   ],
   "source": [
    "city_df.head()"
   ]
  },
  {
   "cell_type": "code",
   "execution_count": 5,
   "metadata": {},
   "outputs": [],
   "source": [
    "#Add the additionals columns\n",
    "city_df[\"Cloudiness\"]=\"\"\n",
    "city_df[\"Country\"]=\"\"\n",
    "city_df[\"Date\"]=\"\"\n",
    "city_df[\"Humidity\"]=\"\"\n",
    "city_df[\"Lat\"]=\"\"\n",
    "city_df[\"Lng\"]=\"\"\n",
    "city_df[\"Max Temp\"]=\"\"\n",
    "city_df[\"Wind Speed\"]=\"\""
   ]
  },
  {
   "cell_type": "code",
   "execution_count": 6,
   "metadata": {
    "scrolled": true
   },
   "outputs": [
    {
     "data": {
      "text/html": [
       "<div>\n",
       "<style scoped>\n",
       "    .dataframe tbody tr th:only-of-type {\n",
       "        vertical-align: middle;\n",
       "    }\n",
       "\n",
       "    .dataframe tbody tr th {\n",
       "        vertical-align: top;\n",
       "    }\n",
       "\n",
       "    .dataframe thead th {\n",
       "        text-align: right;\n",
       "    }\n",
       "</style>\n",
       "<table border=\"1\" class=\"dataframe\">\n",
       "  <thead>\n",
       "    <tr style=\"text-align: right;\">\n",
       "      <th></th>\n",
       "      <th>City</th>\n",
       "      <th>Cloudiness</th>\n",
       "      <th>Country</th>\n",
       "      <th>Date</th>\n",
       "      <th>Humidity</th>\n",
       "      <th>Lat</th>\n",
       "      <th>Lng</th>\n",
       "      <th>Max Temp</th>\n",
       "      <th>Wind Speed</th>\n",
       "    </tr>\n",
       "  </thead>\n",
       "  <tbody>\n",
       "    <tr>\n",
       "      <th>0</th>\n",
       "      <td>daura</td>\n",
       "      <td></td>\n",
       "      <td></td>\n",
       "      <td></td>\n",
       "      <td></td>\n",
       "      <td></td>\n",
       "      <td></td>\n",
       "      <td></td>\n",
       "      <td></td>\n",
       "    </tr>\n",
       "    <tr>\n",
       "      <th>1</th>\n",
       "      <td>lafiagi</td>\n",
       "      <td></td>\n",
       "      <td></td>\n",
       "      <td></td>\n",
       "      <td></td>\n",
       "      <td></td>\n",
       "      <td></td>\n",
       "      <td></td>\n",
       "      <td></td>\n",
       "    </tr>\n",
       "    <tr>\n",
       "      <th>2</th>\n",
       "      <td>bredasdorp</td>\n",
       "      <td></td>\n",
       "      <td></td>\n",
       "      <td></td>\n",
       "      <td></td>\n",
       "      <td></td>\n",
       "      <td></td>\n",
       "      <td></td>\n",
       "      <td></td>\n",
       "    </tr>\n",
       "    <tr>\n",
       "      <th>3</th>\n",
       "      <td>norman wells</td>\n",
       "      <td></td>\n",
       "      <td></td>\n",
       "      <td></td>\n",
       "      <td></td>\n",
       "      <td></td>\n",
       "      <td></td>\n",
       "      <td></td>\n",
       "      <td></td>\n",
       "    </tr>\n",
       "    <tr>\n",
       "      <th>4</th>\n",
       "      <td>pedernales</td>\n",
       "      <td></td>\n",
       "      <td></td>\n",
       "      <td></td>\n",
       "      <td></td>\n",
       "      <td></td>\n",
       "      <td></td>\n",
       "      <td></td>\n",
       "      <td></td>\n",
       "    </tr>\n",
       "  </tbody>\n",
       "</table>\n",
       "</div>"
      ],
      "text/plain": [
       "           City Cloudiness Country Date Humidity Lat Lng Max Temp Wind Speed\n",
       "0         daura                                                             \n",
       "1       lafiagi                                                             \n",
       "2    bredasdorp                                                             \n",
       "3  norman wells                                                             \n",
       "4    pedernales                                                             "
      ]
     },
     "execution_count": 6,
     "metadata": {},
     "output_type": "execute_result"
    }
   ],
   "source": [
    "city_df.head()"
   ]
  },
  {
   "cell_type": "code",
   "execution_count": 7,
   "metadata": {},
   "outputs": [
    {
     "data": {
      "text/plain": [
       "City          585\n",
       "Cloudiness    585\n",
       "Country       585\n",
       "Date          585\n",
       "Humidity      585\n",
       "Lat           585\n",
       "Lng           585\n",
       "Max Temp      585\n",
       "Wind Speed    585\n",
       "dtype: int64"
      ]
     },
     "execution_count": 7,
     "metadata": {},
     "output_type": "execute_result"
    }
   ],
   "source": [
    "#Check all the data \n",
    "city_df.count()"
   ]
  },
  {
   "cell_type": "code",
   "execution_count": 8,
   "metadata": {},
   "outputs": [],
   "source": [
    "#Set the url \n",
    "city=\"london\"\n",
    "url=f\"http://api.openweathermap.org/data/2.5/weather?q={city}&units=metric&APPID={weather_api_key}\""
   ]
  },
  {
   "cell_type": "code",
   "execution_count": 9,
   "metadata": {},
   "outputs": [
    {
     "data": {
      "text/plain": [
       "<Response [200]>"
      ]
     },
     "execution_count": 9,
     "metadata": {},
     "output_type": "execute_result"
    }
   ],
   "source": [
    "#test the request \n",
    "requests.get(url)\n"
   ]
  },
  {
   "cell_type": "code",
   "execution_count": 10,
   "metadata": {},
   "outputs": [],
   "source": [
    "#call the test to look the data\n",
    "test=requests.get(url).json()"
   ]
  },
  {
   "cell_type": "code",
   "execution_count": 11,
   "metadata": {},
   "outputs": [
    {
     "data": {
      "text/plain": [
       "{'coord': {'lon': -0.13, 'lat': 51.51},\n",
       " 'weather': [{'id': 804,\n",
       "   'main': 'Clouds',\n",
       "   'description': 'overcast clouds',\n",
       "   'icon': '04n'}],\n",
       " 'base': 'stations',\n",
       " 'main': {'temp': 8.54,\n",
       "  'feels_like': 1.59,\n",
       "  'temp_min': 7.78,\n",
       "  'temp_max': 9.44,\n",
       "  'pressure': 1016,\n",
       "  'humidity': 57},\n",
       " 'visibility': 10000,\n",
       " 'wind': {'speed': 7.2, 'deg': 60, 'gust': 15.4},\n",
       " 'clouds': {'all': 90},\n",
       " 'dt': 1589140943,\n",
       " 'sys': {'type': 1,\n",
       "  'id': 1414,\n",
       "  'country': 'GB',\n",
       "  'sunrise': 1589084153,\n",
       "  'sunset': 1589139481},\n",
       " 'timezone': 3600,\n",
       " 'id': 2643743,\n",
       " 'name': 'London',\n",
       " 'cod': 200}"
      ]
     },
     "execution_count": 11,
     "metadata": {},
     "output_type": "execute_result"
    }
   ],
   "source": [
    "test\n"
   ]
  },
  {
   "cell_type": "code",
   "execution_count": 12,
   "metadata": {},
   "outputs": [
    {
     "data": {
      "text/plain": [
       "9.44"
      ]
     },
     "execution_count": 12,
     "metadata": {},
     "output_type": "execute_result"
    }
   ],
   "source": [
    "#Build the data lines for your data \n",
    "test[\"clouds\"][\"all\"]\n",
    "test[\"sys\"][\"country\"]\n",
    "test[\"dt\"]\n",
    "test[\"main\"][\"humidity\"]\n",
    "test[\"coord\"][\"lat\"]\n",
    "test[\"coord\"][\"lon\"]\n",
    "test[\"wind\"][\"speed\"]\n",
    "test[\"main\"][\"temp_max\"]"
   ]
  },
  {
   "cell_type": "code",
   "execution_count": 13,
   "metadata": {},
   "outputs": [
    {
     "name": "stdout",
     "output_type": "stream",
     "text": [
      "Proccesing Record 0 of set | daura \n",
      "Proccesing Record 1 of set | lafiagi \n",
      "Proccesing Record 2 of set | bredasdorp \n",
      "Proccesing Record 3 of set | norman wells \n",
      "Proccesing Record 4 of set | pedernales \n",
      "Proccesing Record 5 of set | codrington \n",
      "Proccesing Record 6 of set | butaritari \n",
      "Proccesing Record 7 of set | alugan \n",
      "Proccesing Record 8 of set | savinka \n",
      "Proccesing Record 9 of set | kostino \n",
      "Proccesing Record 10 of set | kapaa \n",
      "Proccesing Record 11 of set | tiksi \n",
      "Proccesing Record 12 of set | puerto ayora \n",
      "Proccesing Record 13 of set | arraial do cabo \n",
      "Proccesing Record 14 of set | yellowknife \n",
      "Proccesing Record 15 of set | cherskiy \n",
      "Proccesing Record 16 of set | rikitea \n",
      "Proccesing Record 17 of set | nome \n",
      "Proccesing Record 18 of set | east london \n",
      "Proccesing Record 19 of set | nikolskoye \n",
      "Proccesing Record 20 of set | hobart \n",
      "Proccesing Record 21 of set | avarua \n",
      "Proccesing Record 22 of set | balkanabat \n",
      "Proccesing Record 23 of set | taolanaro \n",
      "taolanaro not found. Skipping...\n",
      "Proccesing Record 24 of set | nelson bay \n",
      "Proccesing Record 25 of set | ushuaia \n",
      "Proccesing Record 26 of set | albany \n",
      "Proccesing Record 27 of set | new norfolk \n",
      "Proccesing Record 28 of set | vaini \n",
      "Proccesing Record 29 of set | qui nhon \n",
      "Proccesing Record 30 of set | wulanhaote \n",
      "wulanhaote not found. Skipping...\n",
      "Proccesing Record 31 of set | mezen \n",
      "Proccesing Record 32 of set | mayo \n",
      "Proccesing Record 33 of set | warqla \n",
      "warqla not found. Skipping...\n",
      "Proccesing Record 34 of set | belushya guba \n",
      "belushya guba not found. Skipping...\n",
      "Proccesing Record 35 of set | kavieng \n",
      "Proccesing Record 36 of set | khandbari \n",
      "Proccesing Record 37 of set | port alfred \n",
      "Proccesing Record 38 of set | mataura \n",
      "Proccesing Record 39 of set | owando \n",
      "Proccesing Record 40 of set | teabo \n",
      "Proccesing Record 41 of set | busselton \n",
      "Proccesing Record 42 of set | qaanaaq \n",
      "Proccesing Record 43 of set | xghajra \n",
      "xghajra not found. Skipping...\n",
      "Proccesing Record 44 of set | port lincoln \n",
      "Proccesing Record 45 of set | hithadhoo \n",
      "Proccesing Record 46 of set | carnarvon \n",
      "Proccesing Record 47 of set | chulym \n",
      "Proccesing Record 48 of set | guerrero negro \n",
      "Proccesing Record 49 of set | mar del plata \n",
      "Proccesing Record 50 of set | punta arenas \n",
      "Proccesing Record 51 of set | brae \n",
      "Proccesing Record 52 of set | ribeira grande \n",
      "Proccesing Record 53 of set | paracuru \n",
      "Proccesing Record 54 of set | dzerzhinsk \n",
      "Proccesing Record 55 of set | port elizabeth \n",
      "Proccesing Record 56 of set | noumea \n",
      "Proccesing Record 57 of set | kahului \n",
      "Proccesing Record 58 of set | batagay \n",
      "Proccesing Record 59 of set | hilo \n",
      "Proccesing Record 60 of set | kitami \n",
      "Proccesing Record 61 of set | cape town \n",
      "Proccesing Record 62 of set | kaitangata \n",
      "Proccesing Record 63 of set | olafsvik \n",
      "Proccesing Record 64 of set | cidreira \n",
      "Proccesing Record 65 of set | grand river south east \n",
      "grand river south east not found. Skipping...\n",
      "Proccesing Record 66 of set | zhezkazgan \n",
      "Proccesing Record 67 of set | tuatapere \n",
      "Proccesing Record 68 of set | saint-paul \n",
      "Proccesing Record 69 of set | morgantown \n",
      "Proccesing Record 70 of set | meulaboh \n",
      "Proccesing Record 71 of set | sentyabrskiy \n",
      "sentyabrskiy not found. Skipping...\n",
      "Proccesing Record 72 of set | fez \n",
      "Proccesing Record 73 of set | le port \n",
      "Proccesing Record 74 of set | bambous virieux \n",
      "Proccesing Record 75 of set | necochea \n",
      "Proccesing Record 76 of set | saint-philippe \n",
      "Proccesing Record 77 of set | lubao \n",
      "Proccesing Record 78 of set | araouane \n",
      "Proccesing Record 79 of set | husavik \n",
      "Proccesing Record 80 of set | gondanglegi \n",
      "Proccesing Record 81 of set | hamilton \n",
      "Proccesing Record 82 of set | whitehorse \n",
      "Proccesing Record 83 of set | wagar \n",
      "Proccesing Record 84 of set | mecca \n",
      "Proccesing Record 85 of set | oudtshoorn \n",
      "Proccesing Record 86 of set | puro \n",
      "Proccesing Record 87 of set | shizunai \n",
      "Proccesing Record 88 of set | lalmohan \n",
      "Proccesing Record 89 of set | kruisfontein \n",
      "Proccesing Record 90 of set | nuevo imperial \n",
      "Proccesing Record 91 of set | usinsk \n",
      "Proccesing Record 92 of set | victoria \n",
      "Proccesing Record 93 of set | kamenskoye \n",
      "kamenskoye not found. Skipping...\n",
      "Proccesing Record 94 of set | airai \n",
      "Proccesing Record 95 of set | hobyo \n",
      "Proccesing Record 96 of set | jamestown \n",
      "Proccesing Record 97 of set | pringsewu \n",
      "Proccesing Record 98 of set | lowestoft \n",
      "Proccesing Record 99 of set | sao filipe \n",
      "Proccesing Record 100 of set | hualmay \n",
      "Proccesing Record 101 of set | charters towers \n",
      "Proccesing Record 102 of set | mareeba \n",
      "Proccesing Record 103 of set | saint-francois \n",
      "Proccesing Record 104 of set | shitkino \n",
      "Proccesing Record 105 of set | lasa \n",
      "Proccesing Record 106 of set | warrington \n",
      "Proccesing Record 107 of set | bluff \n",
      "Proccesing Record 108 of set | khatanga \n",
      "Proccesing Record 109 of set | waingapu \n",
      "Proccesing Record 110 of set | san patricio \n",
      "Proccesing Record 111 of set | dikson \n",
      "Proccesing Record 112 of set | jati \n",
      "Proccesing Record 113 of set | lompoc \n",
      "Proccesing Record 114 of set | cururupu \n",
      "Proccesing Record 115 of set | cheuskiny \n",
      "cheuskiny not found. Skipping...\n",
      "Proccesing Record 116 of set | bethel \n",
      "Proccesing Record 117 of set | castro \n",
      "Proccesing Record 118 of set | goderich \n",
      "Proccesing Record 119 of set | zhuhai \n",
      "Proccesing Record 120 of set | carutapera \n",
      "Proccesing Record 121 of set | alpoyeca \n",
      "Proccesing Record 122 of set | ust-tsilma \n",
      "Proccesing Record 123 of set | attawapiskat \n",
      "attawapiskat not found. Skipping...\n",
      "Proccesing Record 124 of set | aksarka \n",
      "Proccesing Record 125 of set | grand centre \n",
      "grand centre not found. Skipping...\n",
      "Proccesing Record 126 of set | ayan \n",
      "Proccesing Record 127 of set | poya \n",
      "Proccesing Record 128 of set | kavaratti \n",
      "Proccesing Record 129 of set | saint george \n",
      "Proccesing Record 130 of set | hinton \n",
      "Proccesing Record 131 of set | upernavik \n",
      "Proccesing Record 132 of set | illoqqortoormiut \n",
      "illoqqortoormiut not found. Skipping...\n",
      "Proccesing Record 133 of set | mahebourg \n",
      "Proccesing Record 134 of set | alyangula \n",
      "Proccesing Record 135 of set | nanortalik \n",
      "Proccesing Record 136 of set | port blair \n",
      "Proccesing Record 137 of set | melsungen \n",
      "Proccesing Record 138 of set | salinopolis \n",
      "Proccesing Record 139 of set | usakos \n",
      "Proccesing Record 140 of set | christchurch \n",
      "Proccesing Record 141 of set | rapid valley \n",
      "Proccesing Record 142 of set | provideniya \n",
      "Proccesing Record 143 of set | sao bento \n",
      "Proccesing Record 144 of set | tsaratanana \n",
      "Proccesing Record 145 of set | cayenne \n",
      "Proccesing Record 146 of set | guinticgan \n",
      "Proccesing Record 147 of set | nantucket \n",
      "Proccesing Record 148 of set | atuona \n",
      "Proccesing Record 149 of set | saskylakh \n",
      "Proccesing Record 150 of set | zonguldak \n",
      "Proccesing Record 151 of set | pingliang \n",
      "Proccesing Record 152 of set | tasiilaq \n",
      "Proccesing Record 153 of set | villa carlos paz \n",
      "Proccesing Record 154 of set | luanda \n",
      "Proccesing Record 155 of set | okha \n",
      "Proccesing Record 156 of set | kastamonu \n",
      "Proccesing Record 157 of set | acari \n",
      "Proccesing Record 158 of set | kirn \n",
      "Proccesing Record 159 of set | inhambane \n",
      "Proccesing Record 160 of set | genhe \n",
      "Proccesing Record 161 of set | datong \n",
      "Proccesing Record 162 of set | aviles \n",
      "Proccesing Record 163 of set | chumikan \n",
      "Proccesing Record 164 of set | olinda \n",
      "Proccesing Record 165 of set | camana \n",
      "Proccesing Record 166 of set | cap-aux-meules \n",
      "Proccesing Record 167 of set | esperance \n",
      "Proccesing Record 168 of set | hermanus \n",
      "Proccesing Record 169 of set | vaitupu \n",
      "vaitupu not found. Skipping...\n",
      "Proccesing Record 170 of set | storforshei \n",
      "Proccesing Record 171 of set | solnechnyy \n",
      "Proccesing Record 172 of set | tuktoyaktuk \n",
      "Proccesing Record 173 of set | kemijarvi \n",
      "Proccesing Record 174 of set | tumannyy \n",
      "tumannyy not found. Skipping...\n",
      "Proccesing Record 175 of set | tignere \n",
      "Proccesing Record 176 of set | rocha \n",
      "Proccesing Record 177 of set | pacific grove \n",
      "Proccesing Record 178 of set | tsihombe \n",
      "tsihombe not found. Skipping...\n",
      "Proccesing Record 179 of set | naze \n",
      "Proccesing Record 180 of set | dunedin \n",
      "Proccesing Record 181 of set | abu dhabi \n",
      "Proccesing Record 182 of set | trinidad \n",
      "Proccesing Record 183 of set | buraydah \n",
      "Proccesing Record 184 of set | storslett \n",
      "Proccesing Record 185 of set | miles city \n",
      "Proccesing Record 186 of set | agirish \n",
      "Proccesing Record 187 of set | kuche \n",
      "kuche not found. Skipping...\n"
     ]
    },
    {
     "name": "stdout",
     "output_type": "stream",
     "text": [
      "Proccesing Record 188 of set | price \n",
      "Proccesing Record 189 of set | zhangjiakou \n",
      "Proccesing Record 190 of set | matelandia \n",
      "Proccesing Record 191 of set | tommot \n",
      "Proccesing Record 192 of set | grand gaube \n",
      "Proccesing Record 193 of set | durban \n",
      "Proccesing Record 194 of set | quzhou \n",
      "Proccesing Record 195 of set | aklavik \n",
      "Proccesing Record 196 of set | cuamba \n",
      "Proccesing Record 197 of set | shirokiy \n",
      "Proccesing Record 198 of set | sitka \n",
      "Proccesing Record 199 of set | ust-ilimsk \n",
      "Proccesing Record 200 of set | vila velha \n",
      "Proccesing Record 201 of set | faanui \n",
      "Proccesing Record 202 of set | toliary \n",
      "toliary not found. Skipping...\n",
      "Proccesing Record 203 of set | georgetown \n",
      "Proccesing Record 204 of set | iqaluit \n",
      "Proccesing Record 205 of set | olsztyn \n",
      "Proccesing Record 206 of set | puerto madryn \n",
      "Proccesing Record 207 of set | siloam springs \n",
      "Proccesing Record 208 of set | acapulco \n",
      "Proccesing Record 209 of set | bilma \n",
      "Proccesing Record 210 of set | paamiut \n",
      "Proccesing Record 211 of set | inongo \n",
      "Proccesing Record 212 of set | fortuna \n",
      "Proccesing Record 213 of set | kodiak \n",
      "Proccesing Record 214 of set | penzance \n",
      "Proccesing Record 215 of set | lebu \n",
      "Proccesing Record 216 of set | clyde river \n",
      "Proccesing Record 217 of set | kenai \n",
      "Proccesing Record 218 of set | beringovskiy \n",
      "Proccesing Record 219 of set | fairbanks \n",
      "Proccesing Record 220 of set | korla \n",
      "Proccesing Record 221 of set | narsaq \n",
      "Proccesing Record 222 of set | puerto ayacucho \n",
      "Proccesing Record 223 of set | bonthe \n",
      "Proccesing Record 224 of set | cockburn town \n",
      "Proccesing Record 225 of set | barentsburg \n",
      "barentsburg not found. Skipping...\n",
      "Proccesing Record 226 of set | phan thiet \n",
      "Proccesing Record 227 of set | ponta do sol \n",
      "Proccesing Record 228 of set | kupang \n",
      "Proccesing Record 229 of set | moron \n",
      "Proccesing Record 230 of set | kununurra \n",
      "Proccesing Record 231 of set | severo-kurilsk \n",
      "Proccesing Record 232 of set | mahajanga \n",
      "Proccesing Record 233 of set | dingle \n",
      "Proccesing Record 234 of set | ishigaki \n",
      "Proccesing Record 235 of set | yalova \n",
      "Proccesing Record 236 of set | mandalgovi \n",
      "Proccesing Record 237 of set | urucara \n",
      "Proccesing Record 238 of set | petropavlovsk-kamchatskiy \n",
      "Proccesing Record 239 of set | deputatskiy \n",
      "Proccesing Record 240 of set | vestmannaeyjar \n",
      "Proccesing Record 241 of set | vila franca do campo \n",
      "Proccesing Record 242 of set | uyuni \n",
      "Proccesing Record 243 of set | valparaiso \n",
      "Proccesing Record 244 of set | bontang \n",
      "Proccesing Record 245 of set | axim \n",
      "Proccesing Record 246 of set | millbrook \n",
      "Proccesing Record 247 of set | ronneby \n",
      "Proccesing Record 248 of set | ilulissat \n",
      "Proccesing Record 249 of set | karratha \n",
      "Proccesing Record 250 of set | longyearbyen \n",
      "Proccesing Record 251 of set | lazaro cardenas \n",
      "Proccesing Record 252 of set | cabo san lucas \n",
      "Proccesing Record 253 of set | barrow \n",
      "Proccesing Record 254 of set | praia da vitoria \n",
      "Proccesing Record 255 of set | los llanos de aridane \n",
      "Proccesing Record 256 of set | bengkulu \n",
      "Proccesing Record 257 of set | pontalina \n",
      "Proccesing Record 258 of set | turbat \n",
      "Proccesing Record 259 of set | kuryk \n",
      "Proccesing Record 260 of set | geraldton \n",
      "Proccesing Record 261 of set | shingu \n",
      "Proccesing Record 262 of set | linxia \n",
      "Proccesing Record 263 of set | obluche \n",
      "obluche not found. Skipping...\n",
      "Proccesing Record 264 of set | salalah \n",
      "Proccesing Record 265 of set | kijini \n",
      "Proccesing Record 266 of set | meadow lake \n",
      "Proccesing Record 267 of set | shakawe \n",
      "Proccesing Record 268 of set | latung \n",
      "Proccesing Record 269 of set | jiehu \n",
      "Proccesing Record 270 of set | ushumun \n",
      "Proccesing Record 271 of set | gubkinskiy \n",
      "Proccesing Record 272 of set | meghraj \n",
      "Proccesing Record 273 of set | antofagasta \n",
      "Proccesing Record 274 of set | belomorsk \n",
      "Proccesing Record 275 of set | hovd \n",
      "Proccesing Record 276 of set | thompson \n",
      "Proccesing Record 277 of set | rabo de peixe \n",
      "Proccesing Record 278 of set | bolungarvik \n",
      "bolungarvik not found. Skipping...\n",
      "Proccesing Record 279 of set | porbandar \n",
      "Proccesing Record 280 of set | mutsamudu \n",
      "mutsamudu not found. Skipping...\n",
      "Proccesing Record 281 of set | guaruja \n",
      "Proccesing Record 282 of set | san matias \n",
      "Proccesing Record 283 of set | sandpoint \n",
      "Proccesing Record 284 of set | itarantim \n",
      "Proccesing Record 285 of set | amderma \n",
      "amderma not found. Skipping...\n",
      "Proccesing Record 286 of set | chokurdakh \n",
      "Proccesing Record 287 of set | touros \n",
      "Proccesing Record 288 of set | fatwa \n",
      "Proccesing Record 289 of set | pachora \n",
      "Proccesing Record 290 of set | kutum \n",
      "Proccesing Record 291 of set | qaqortoq \n",
      "Proccesing Record 292 of set | digras \n",
      "Proccesing Record 293 of set | himora \n",
      "himora not found. Skipping...\n",
      "Proccesing Record 294 of set | tual \n",
      "Proccesing Record 295 of set | smithers \n",
      "Proccesing Record 296 of set | asyut \n",
      "Proccesing Record 297 of set | ancud \n",
      "Proccesing Record 298 of set | harper \n",
      "Proccesing Record 299 of set | sheridan \n",
      "Proccesing Record 300 of set | yumen \n",
      "Proccesing Record 301 of set | khanpur \n",
      "Proccesing Record 302 of set | sarahan \n",
      "Proccesing Record 303 of set | avera \n",
      "Proccesing Record 304 of set | aksay \n",
      "Proccesing Record 305 of set | darhan \n",
      "Proccesing Record 306 of set | yurga \n",
      "Proccesing Record 307 of set | carmen \n",
      "Proccesing Record 308 of set | san cristobal \n",
      "Proccesing Record 309 of set | hailey \n",
      "Proccesing Record 310 of set | lander \n",
      "Proccesing Record 311 of set | beloha \n",
      "Proccesing Record 312 of set | hervey bay \n",
      "Proccesing Record 313 of set | lhokseumawe \n",
      "Proccesing Record 314 of set | ruatoria \n",
      "ruatoria not found. Skipping...\n",
      "Proccesing Record 315 of set | abha \n",
      "Proccesing Record 316 of set | mackay \n",
      "Proccesing Record 317 of set | saint anthony \n",
      "Proccesing Record 318 of set | sydney \n",
      "Proccesing Record 319 of set | licheng \n",
      "Proccesing Record 320 of set | atbasar \n",
      "Proccesing Record 321 of set | caravelas \n",
      "Proccesing Record 322 of set | nuevitas \n",
      "Proccesing Record 323 of set | puerto leguizamo \n",
      "Proccesing Record 324 of set | ponta delgada \n",
      "Proccesing Record 325 of set | palmer \n",
      "Proccesing Record 326 of set | puerto colombia \n",
      "Proccesing Record 327 of set | miri \n",
      "Proccesing Record 328 of set | palmas bellas \n",
      "Proccesing Record 329 of set | palabuhanratu \n",
      "palabuhanratu not found. Skipping...\n",
      "Proccesing Record 330 of set | tazovskiy \n",
      "Proccesing Record 331 of set | mabaruma \n",
      "Proccesing Record 332 of set | aykhal \n",
      "Proccesing Record 333 of set | mattru \n",
      "Proccesing Record 334 of set | nizhnevartovsk \n",
      "Proccesing Record 335 of set | wangqing \n",
      "Proccesing Record 336 of set | kualakapuas \n",
      "Proccesing Record 337 of set | villa maria \n",
      "Proccesing Record 338 of set | constitucion \n",
      "Proccesing Record 339 of set | tura \n",
      "Proccesing Record 340 of set | anadyr \n",
      "Proccesing Record 341 of set | vostok \n",
      "Proccesing Record 342 of set | pevek \n",
      "Proccesing Record 343 of set | manta \n",
      "Proccesing Record 344 of set | vigia del fuerte \n",
      "Proccesing Record 345 of set | bambanglipuro \n",
      "Proccesing Record 346 of set | tecate \n",
      "Proccesing Record 347 of set | nayoro \n",
      "Proccesing Record 348 of set | the valley \n",
      "Proccesing Record 349 of set | sinnamary \n",
      "Proccesing Record 350 of set | taoudenni \n",
      "Proccesing Record 351 of set | mentok \n",
      "mentok not found. Skipping...\n",
      "Proccesing Record 352 of set | hengshui \n",
      "Proccesing Record 353 of set | salto \n",
      "Proccesing Record 354 of set | pisco \n",
      "Proccesing Record 355 of set | rennes \n",
      "Proccesing Record 356 of set | havre-saint-pierre \n",
      "Proccesing Record 357 of set | kurilsk \n",
      "Proccesing Record 358 of set | matay \n",
      "Proccesing Record 359 of set | alofi \n",
      "Proccesing Record 360 of set | lorengau \n",
      "Proccesing Record 361 of set | torbay \n",
      "Proccesing Record 362 of set | karia \n",
      "Proccesing Record 363 of set | gamba \n",
      "Proccesing Record 364 of set | skjeberg \n",
      "Proccesing Record 365 of set | yuzhno-yeniseyskiy \n",
      "yuzhno-yeniseyskiy not found. Skipping...\n",
      "Proccesing Record 366 of set | juli \n",
      "Proccesing Record 367 of set | pucara \n",
      "Proccesing Record 368 of set | dudinka \n",
      "Proccesing Record 369 of set | hunza \n",
      "hunza not found. Skipping...\n",
      "Proccesing Record 370 of set | parainen \n",
      "Proccesing Record 371 of set | darnah \n",
      "Proccesing Record 372 of set | ostrovnoy \n",
      "Proccesing Record 373 of set | krasnoselkup \n",
      "Proccesing Record 374 of set | qandala \n",
      "Proccesing Record 375 of set | jiuquan \n",
      "Proccesing Record 376 of set | srednekolymsk \n"
     ]
    },
    {
     "name": "stdout",
     "output_type": "stream",
     "text": [
      "Proccesing Record 377 of set | san juan \n",
      "Proccesing Record 378 of set | padang \n",
      "Proccesing Record 379 of set | namibe \n",
      "Proccesing Record 380 of set | porta westfalica \n",
      "Proccesing Record 381 of set | luganville \n",
      "Proccesing Record 382 of set | vardo \n",
      "Proccesing Record 383 of set | tilichiki \n",
      "Proccesing Record 384 of set | saleaula \n",
      "saleaula not found. Skipping...\n",
      "Proccesing Record 385 of set | samusu \n",
      "samusu not found. Skipping...\n",
      "Proccesing Record 386 of set | luderitz \n",
      "Proccesing Record 387 of set | rio gallegos \n",
      "Proccesing Record 388 of set | vao \n",
      "Proccesing Record 389 of set | otuzco \n",
      "Proccesing Record 390 of set | mys shmidta \n",
      "mys shmidta not found. Skipping...\n",
      "Proccesing Record 391 of set | balgazyn \n",
      "Proccesing Record 392 of set | turukhansk \n",
      "Proccesing Record 393 of set | yulara \n",
      "Proccesing Record 394 of set | tula \n",
      "Proccesing Record 395 of set | pimentel \n",
      "Proccesing Record 396 of set | broken hill \n",
      "Proccesing Record 397 of set | santa catarina de tepehuanes \n",
      "Proccesing Record 398 of set | pithora \n",
      "Proccesing Record 399 of set | kindu \n",
      "Proccesing Record 400 of set | college \n",
      "Proccesing Record 401 of set | atotonilco el alto \n",
      "Proccesing Record 402 of set | manadhoo \n",
      "Proccesing Record 403 of set | talnakh \n",
      "Proccesing Record 404 of set | itanhem \n",
      "Proccesing Record 405 of set | lluta \n",
      "Proccesing Record 406 of set | leningradskiy \n",
      "Proccesing Record 407 of set | palpa \n",
      "Proccesing Record 408 of set | pinsk \n",
      "Proccesing Record 409 of set | utiroa \n",
      "utiroa not found. Skipping...\n",
      "Proccesing Record 410 of set | imeni zhelyabova \n",
      "Proccesing Record 411 of set | halifax \n",
      "Proccesing Record 412 of set | katsuura \n",
      "Proccesing Record 413 of set | novaya igirma \n",
      "Proccesing Record 414 of set | nakonde \n",
      "Proccesing Record 415 of set | umzimvubu \n",
      "umzimvubu not found. Skipping...\n",
      "Proccesing Record 416 of set | lagunas \n",
      "Proccesing Record 417 of set | vicuna \n",
      "Proccesing Record 418 of set | miranorte \n",
      "miranorte not found. Skipping...\n",
      "Proccesing Record 419 of set | mount gambier \n",
      "Proccesing Record 420 of set | ahipara \n",
      "Proccesing Record 421 of set | wakkanai \n",
      "Proccesing Record 422 of set | makat \n",
      "Proccesing Record 423 of set | kieta \n",
      "Proccesing Record 424 of set | obo \n",
      "Proccesing Record 425 of set | palencia \n",
      "Proccesing Record 426 of set | konstantinovsk \n",
      "Proccesing Record 427 of set | hasaki \n",
      "Proccesing Record 428 of set | nsanje \n",
      "Proccesing Record 429 of set | kingsport \n",
      "Proccesing Record 430 of set | alice springs \n",
      "Proccesing Record 431 of set | labuhan \n",
      "Proccesing Record 432 of set | souillac \n",
      "Proccesing Record 433 of set | flinders \n",
      "Proccesing Record 434 of set | domoni \n",
      "Proccesing Record 435 of set | natitingou \n",
      "Proccesing Record 436 of set | seddon \n",
      "Proccesing Record 437 of set | yegros \n",
      "Proccesing Record 438 of set | coihaique \n",
      "Proccesing Record 439 of set | fort nelson \n",
      "Proccesing Record 440 of set | lincoln \n",
      "Proccesing Record 441 of set | tubuala \n",
      "Proccesing Record 442 of set | alberton \n",
      "Proccesing Record 443 of set | lamballe \n",
      "Proccesing Record 444 of set | ulladulla \n",
      "Proccesing Record 445 of set | ternate \n",
      "Proccesing Record 446 of set | bloemfontein \n",
      "Proccesing Record 447 of set | mogocha \n",
      "Proccesing Record 448 of set | biak \n",
      "Proccesing Record 449 of set | marawi \n",
      "Proccesing Record 450 of set | sangar \n",
      "Proccesing Record 451 of set | bowen \n",
      "Proccesing Record 452 of set | yilan \n",
      "Proccesing Record 453 of set | ornskoldsvik \n",
      "Proccesing Record 454 of set | podosinovets \n",
      "Proccesing Record 455 of set | puerto el triunfo \n",
      "Proccesing Record 456 of set | maragua \n",
      "Proccesing Record 457 of set | marsh harbour \n",
      "Proccesing Record 458 of set | purranque \n",
      "Proccesing Record 459 of set | gasa \n",
      "Proccesing Record 460 of set | grand-santi \n",
      "Proccesing Record 461 of set | parana \n",
      "Proccesing Record 462 of set | port-cartier \n",
      "Proccesing Record 463 of set | saint-augustin \n",
      "Proccesing Record 464 of set | nizhneyansk \n",
      "nizhneyansk not found. Skipping...\n",
      "Proccesing Record 465 of set | andenes \n",
      "Proccesing Record 466 of set | bryan \n",
      "Proccesing Record 467 of set | nemuro \n",
      "Proccesing Record 468 of set | partyzany \n",
      "Proccesing Record 469 of set | kempsey \n",
      "Proccesing Record 470 of set | la ronge \n",
      "Proccesing Record 471 of set | fare \n",
      "Proccesing Record 472 of set | ibipeba \n",
      "Proccesing Record 473 of set | umm durman \n",
      "umm durman not found. Skipping...\n",
      "Proccesing Record 474 of set | katobu \n",
      "Proccesing Record 475 of set | lyngdal \n",
      "Proccesing Record 476 of set | chuy \n",
      "Proccesing Record 477 of set | chara \n",
      "Proccesing Record 478 of set | corning \n",
      "Proccesing Record 479 of set | marcona \n",
      "marcona not found. Skipping...\n",
      "Proccesing Record 480 of set | yacuiba \n",
      "Proccesing Record 481 of set | pacifica \n",
      "Proccesing Record 482 of set | buariki \n",
      "buariki not found. Skipping...\n",
      "Proccesing Record 483 of set | lumeje \n",
      "Proccesing Record 484 of set | honiara \n",
      "Proccesing Record 485 of set | vilhena \n",
      "Proccesing Record 486 of set | la tuque \n",
      "Proccesing Record 487 of set | campbeltown \n",
      "Proccesing Record 488 of set | pochutla \n",
      "Proccesing Record 489 of set | chikoy \n",
      "chikoy not found. Skipping...\n",
      "Proccesing Record 490 of set | muros \n",
      "Proccesing Record 491 of set | port shepstone \n",
      "Proccesing Record 492 of set | lotoshino \n",
      "Proccesing Record 493 of set | adrar \n",
      "Proccesing Record 494 of set | saldanha \n",
      "Proccesing Record 495 of set | bergen \n",
      "Proccesing Record 496 of set | oss \n",
      "Proccesing Record 497 of set | kondopoga \n",
      "Proccesing Record 498 of set | preston \n",
      "Proccesing Record 499 of set | grindavik \n",
      "Proccesing Record 500 of set | stoyba \n",
      "stoyba not found. Skipping...\n",
      "Proccesing Record 501 of set | kirakira \n",
      "Proccesing Record 502 of set | kawalu \n",
      "Proccesing Record 503 of set | kapuskasing \n",
      "Proccesing Record 504 of set | andrews \n",
      "Proccesing Record 505 of set | agadez \n",
      "Proccesing Record 506 of set | sambava \n",
      "Proccesing Record 507 of set | bealanana \n",
      "Proccesing Record 508 of set | tabou \n",
      "Proccesing Record 509 of set | klaksvik \n",
      "Proccesing Record 510 of set | dedougou \n",
      "Proccesing Record 511 of set | barranca \n",
      "Proccesing Record 512 of set | karaul \n",
      "karaul not found. Skipping...\n",
      "Proccesing Record 513 of set | coquimbo \n",
      "Proccesing Record 514 of set | fort erie \n",
      "Proccesing Record 515 of set | mananjary \n",
      "Proccesing Record 516 of set | nabire \n",
      "Proccesing Record 517 of set | robstown \n",
      "Proccesing Record 518 of set | marystown \n",
      "Proccesing Record 519 of set | gurlan \n",
      "Proccesing Record 520 of set | half moon bay \n",
      "Proccesing Record 521 of set | saint-joseph \n",
      "Proccesing Record 522 of set | sioux lookout \n",
      "Proccesing Record 523 of set | maghar \n",
      "Proccesing Record 524 of set | feicheng \n",
      "Proccesing Record 525 of set | barra velha \n",
      "Proccesing Record 526 of set | lavrentiya \n",
      "Proccesing Record 527 of set | linping \n",
      "Proccesing Record 528 of set | kloulklubed \n",
      "Proccesing Record 529 of set | haibowan \n",
      "haibowan not found. Skipping...\n",
      "Proccesing Record 530 of set | kano \n",
      "Proccesing Record 531 of set | manaus \n",
      "Proccesing Record 532 of set | port keats \n",
      "Proccesing Record 533 of set | kyshtovka \n",
      "Proccesing Record 534 of set | akyab \n",
      "Proccesing Record 535 of set | cooma \n",
      "Proccesing Record 536 of set | chagda \n",
      "chagda not found. Skipping...\n",
      "Proccesing Record 537 of set | kaeo \n",
      "Proccesing Record 538 of set | gilbues \n",
      "Proccesing Record 539 of set | cherepovets \n",
      "Proccesing Record 540 of set | kuching \n",
      "Proccesing Record 541 of set | martapura \n",
      "Proccesing Record 542 of set | hyvinkaa \n",
      "Proccesing Record 543 of set | puerto escondido \n",
      "Proccesing Record 544 of set | algeciras \n",
      "Proccesing Record 545 of set | roura \n",
      "Proccesing Record 546 of set | along \n",
      "Proccesing Record 547 of set | malanje \n",
      "Proccesing Record 548 of set | nenjiang \n",
      "Proccesing Record 549 of set | qianguo \n",
      "Proccesing Record 550 of set | saysain \n",
      "Proccesing Record 551 of set | beitbridge \n",
      "Proccesing Record 552 of set | baglan \n",
      "Proccesing Record 553 of set | ocotepec \n",
      "Proccesing Record 554 of set | guekedou \n",
      "guekedou not found. Skipping...\n",
      "Proccesing Record 555 of set | ettlingen \n",
      "Proccesing Record 556 of set | dodge city \n",
      "Proccesing Record 557 of set | inirida \n",
      "Proccesing Record 558 of set | roald \n",
      "Proccesing Record 559 of set | trairi \n",
      "Proccesing Record 560 of set | huarmey \n",
      "Proccesing Record 561 of set | sumbawa \n",
      "sumbawa not found. Skipping...\n",
      "Proccesing Record 562 of set | kandalaksha \n",
      "Proccesing Record 563 of set | vysokogornyy \n"
     ]
    },
    {
     "name": "stdout",
     "output_type": "stream",
     "text": [
      "Proccesing Record 564 of set | konevo \n",
      "Proccesing Record 565 of set | kasongo-lunda \n",
      "Proccesing Record 566 of set | ginir \n",
      "Proccesing Record 567 of set | lagoa \n",
      "Proccesing Record 568 of set | najran \n",
      "Proccesing Record 569 of set | puerto carreno \n",
      "Proccesing Record 570 of set | dawei \n",
      "Proccesing Record 571 of set | newport \n",
      "Proccesing Record 572 of set | san felipe \n",
      "Proccesing Record 573 of set | broome \n",
      "Proccesing Record 574 of set | sao felix do xingu \n",
      "Proccesing Record 575 of set | lufilufi \n",
      "Proccesing Record 576 of set | sola \n",
      "Proccesing Record 577 of set | san luis \n",
      "Proccesing Record 578 of set | nhulunbuy \n",
      "Proccesing Record 579 of set | saint-pierre \n",
      "Proccesing Record 580 of set | huangpi \n",
      "Proccesing Record 581 of set | ust-kuyga \n",
      "Proccesing Record 582 of set | dese \n",
      "Proccesing Record 583 of set | new plymouth \n",
      "Proccesing Record 584 of set | betioky \n"
     ]
    }
   ],
   "source": [
    "#Request the data for all the cities listed in the data frame\n",
    "for index, row in city_df.iterrows():\n",
    "    #get the city name from df \n",
    "    city=row['City']\n",
    "    #Set the url\n",
    "    url=f\"http://api.openweathermap.org/data/2.5/weather?q={city}&units=metric&APPID={weather_api_key}\"\n",
    "    #request the data from api \n",
    "    response=requests.get(url).json()\n",
    "    \n",
    "    try:\n",
    "        \n",
    "        print(f\"Proccesing Record {index} of set | {city} \")\n",
    "        \n",
    "        city_df.loc[index, 'Cloudiness'] = response[\"clouds\"][\"all\"]\n",
    "        city_df.loc[index, 'Country'] = response[\"sys\"][\"country\"]\n",
    "        city_df.loc[index, 'Date'] = response[\"dt\"]\n",
    "        city_df.loc[index, 'Humidity'] = response[\"main\"][\"humidity\"]\n",
    "        city_df.loc[index, 'Lat'] = response[\"coord\"][\"lat\"]\n",
    "        city_df.loc[index, 'Lng'] = response[\"coord\"][\"lon\"]\n",
    "        city_df.loc[index, 'Max Temp'] = response[\"main\"][\"temp_max\"]\n",
    "        city_df.loc[index, 'Wind Speed'] =response[\"wind\"][\"speed\"]\n",
    "        \n",
    "    except (KeyError, IndexError):\n",
    "        \n",
    "        print(f\"{city} not found. Skipping...\")\n",
    "   "
   ]
  },
  {
   "cell_type": "code",
   "execution_count": 14,
   "metadata": {
    "scrolled": true
   },
   "outputs": [
    {
     "data": {
      "text/html": [
       "<div>\n",
       "<style scoped>\n",
       "    .dataframe tbody tr th:only-of-type {\n",
       "        vertical-align: middle;\n",
       "    }\n",
       "\n",
       "    .dataframe tbody tr th {\n",
       "        vertical-align: top;\n",
       "    }\n",
       "\n",
       "    .dataframe thead th {\n",
       "        text-align: right;\n",
       "    }\n",
       "</style>\n",
       "<table border=\"1\" class=\"dataframe\">\n",
       "  <thead>\n",
       "    <tr style=\"text-align: right;\">\n",
       "      <th></th>\n",
       "      <th>City</th>\n",
       "      <th>Cloudiness</th>\n",
       "      <th>Country</th>\n",
       "      <th>Date</th>\n",
       "      <th>Humidity</th>\n",
       "      <th>Lat</th>\n",
       "      <th>Lng</th>\n",
       "      <th>Max Temp</th>\n",
       "      <th>Wind Speed</th>\n",
       "    </tr>\n",
       "  </thead>\n",
       "  <tbody>\n",
       "    <tr>\n",
       "      <th>0</th>\n",
       "      <td>daura</td>\n",
       "      <td>31</td>\n",
       "      <td>NG</td>\n",
       "      <td>1589141082</td>\n",
       "      <td>20</td>\n",
       "      <td>11.55</td>\n",
       "      <td>11.41</td>\n",
       "      <td>32.03</td>\n",
       "      <td>1.46</td>\n",
       "    </tr>\n",
       "    <tr>\n",
       "      <th>1</th>\n",
       "      <td>lafiagi</td>\n",
       "      <td>95</td>\n",
       "      <td>NG</td>\n",
       "      <td>1589141082</td>\n",
       "      <td>75</td>\n",
       "      <td>8.87</td>\n",
       "      <td>5.42</td>\n",
       "      <td>27.24</td>\n",
       "      <td>0.61</td>\n",
       "    </tr>\n",
       "    <tr>\n",
       "      <th>2</th>\n",
       "      <td>bredasdorp</td>\n",
       "      <td>0</td>\n",
       "      <td>ZA</td>\n",
       "      <td>1589141083</td>\n",
       "      <td>87</td>\n",
       "      <td>-34.53</td>\n",
       "      <td>20.04</td>\n",
       "      <td>16</td>\n",
       "      <td>2.1</td>\n",
       "    </tr>\n",
       "    <tr>\n",
       "      <th>3</th>\n",
       "      <td>norman wells</td>\n",
       "      <td>20</td>\n",
       "      <td>CA</td>\n",
       "      <td>1589141083</td>\n",
       "      <td>61</td>\n",
       "      <td>65.28</td>\n",
       "      <td>-126.83</td>\n",
       "      <td>9</td>\n",
       "      <td>5.1</td>\n",
       "    </tr>\n",
       "    <tr>\n",
       "      <th>4</th>\n",
       "      <td>pedernales</td>\n",
       "      <td>51</td>\n",
       "      <td>DO</td>\n",
       "      <td>1589141083</td>\n",
       "      <td>42</td>\n",
       "      <td>18.04</td>\n",
       "      <td>-71.74</td>\n",
       "      <td>32.19</td>\n",
       "      <td>11.19</td>\n",
       "    </tr>\n",
       "  </tbody>\n",
       "</table>\n",
       "</div>"
      ],
      "text/plain": [
       "           City Cloudiness Country        Date Humidity    Lat     Lng  \\\n",
       "0         daura         31      NG  1589141082       20  11.55   11.41   \n",
       "1       lafiagi         95      NG  1589141082       75   8.87    5.42   \n",
       "2    bredasdorp          0      ZA  1589141083       87 -34.53   20.04   \n",
       "3  norman wells         20      CA  1589141083       61  65.28 -126.83   \n",
       "4    pedernales         51      DO  1589141083       42  18.04  -71.74   \n",
       "\n",
       "  Max Temp Wind Speed  \n",
       "0    32.03       1.46  \n",
       "1    27.24       0.61  \n",
       "2       16        2.1  \n",
       "3        9        5.1  \n",
       "4    32.19      11.19  "
      ]
     },
     "execution_count": 14,
     "metadata": {},
     "output_type": "execute_result"
    }
   ],
   "source": [
    "#display the dataframe filled\n",
    "city_df.head()"
   ]
  },
  {
   "cell_type": "code",
   "execution_count": 15,
   "metadata": {},
   "outputs": [],
   "source": [
    " city_df = city_df.loc[city_df[\"Cloudiness\"] != \"\"]"
   ]
  },
  {
   "cell_type": "code",
   "execution_count": 16,
   "metadata": {},
   "outputs": [
    {
     "data": {
      "text/plain": [
       "City          540\n",
       "Cloudiness    540\n",
       "Country       540\n",
       "Date          540\n",
       "Humidity      540\n",
       "Lat           540\n",
       "Lng           540\n",
       "Max Temp      540\n",
       "Wind Speed    540\n",
       "dtype: int64"
      ]
     },
     "execution_count": 16,
     "metadata": {},
     "output_type": "execute_result"
    }
   ],
   "source": [
    "city_df.count()\n"
   ]
  },
  {
   "cell_type": "code",
   "execution_count": 17,
   "metadata": {
    "scrolled": false
   },
   "outputs": [
    {
     "data": {
      "text/plain": [
       "City          object\n",
       "Cloudiness    object\n",
       "Country       object\n",
       "Date          object\n",
       "Humidity      object\n",
       "Lat           object\n",
       "Lng           object\n",
       "Max Temp      object\n",
       "Wind Speed    object\n",
       "dtype: object"
      ]
     },
     "execution_count": 17,
     "metadata": {},
     "output_type": "execute_result"
    }
   ],
   "source": [
    "#Check the type of each data \n",
    "city_df.dtypes\n"
   ]
  },
  {
   "cell_type": "code",
   "execution_count": null,
   "metadata": {},
   "outputs": [],
   "source": [
    "#city_df.astype({'Cloudiness': 'float64','Lat': 'float64','Lng': 'float64','Humidity': 'float64','Wind Speed': 'float64','Max Temp': 'float64'}).dtypes\n"
   ]
  },
  {
   "cell_type": "code",
   "execution_count": 19,
   "metadata": {},
   "outputs": [],
   "source": [
    "city_df.to_csv(output_data_file,index=False)"
   ]
  },
  {
   "cell_type": "markdown",
   "metadata": {},
   "source": [
    "### Plotting the Data\n",
    "* Use proper labeling of the plots using plot titles (including date of analysis) and axes labels.\n",
    "* Save the plotted figures as .pngs."
   ]
  },
  {
   "cell_type": "markdown",
   "metadata": {},
   "source": [
    "#### Latitude vs. Temperature Plot"
   ]
  },
  {
   "cell_type": "code",
   "execution_count": 20,
   "metadata": {
    "scrolled": true
   },
   "outputs": [
    {
     "data": {
      "image/png": "[encoded data removed]",
      "text/plain": [
       "<Figure size 432x288 with 1 Axes>"
      ]
     },
     "metadata": {
      "needs_background": "light"
     },
     "output_type": "display_data"
    }
   ],
   "source": [
    "x = pd.to_numeric(city_df[\"Lat\"])\n",
    "y = pd.to_numeric(city_df[\"Max Temp\"])\n",
    "plt.scatter(x,y,marker=\"o\",color=\"red\")\n",
    "plt.xlabel(\"Latitude\")\n",
    "plt.ylabel(\"Temperature\")\n",
    "plt.title(\"Latitide vs Temperature Plot\")\n",
    "plt.savefig(\"output_data/Latitide vs Temperature Plot.png\")\n",
    "plt.show()"
   ]
  },
  {
   "cell_type": "markdown",
   "metadata": {},
   "source": [
    "#### Latitude vs. Humidity Plot"
   ]
  },
  {
   "cell_type": "code",
   "execution_count": 21,
   "metadata": {},
   "outputs": [
    {
     "data": {
      "image/png": "[encoded data removed]",
      "text/plain": [
       "<Figure size 432x288 with 1 Axes>"
      ]
     },
     "metadata": {
      "needs_background": "light"
     },
     "output_type": "display_data"
    }
   ],
   "source": [
    "x = pd.to_numeric(city_df[\"Lat\"])\n",
    "y = pd.to_numeric(city_df[\"Humidity\"])\n",
    "plt.scatter(x,y,marker=\"^\",color=\"blue\")\n",
    "plt.xlabel(\"Latitude\")\n",
    "plt.ylabel(\"Humidity\")\n",
    "plt.title(\"Latitide vs Humidity Plot\")\n",
    "plt.savefig(\"output_data/Latitide vs Humidity.png\")\n",
    "plt.show()"
   ]
  },
  {
   "cell_type": "markdown",
   "metadata": {},
   "source": [
    "#### Latitude vs. Cloudiness Plot"
   ]
  },
  {
   "cell_type": "code",
   "execution_count": 22,
   "metadata": {},
   "outputs": [
    {
     "data": {
      "image/png": "[encoded data removed]",
      "text/plain": [
       "<Figure size 432x288 with 1 Axes>"
      ]
     },
     "metadata": {
      "needs_background": "light"
     },
     "output_type": "display_data"
    }
   ],
   "source": [
    "x = pd.to_numeric(city_df[\"Lat\"])\n",
    "y = pd.to_numeric(city_df[\"Cloudiness\"])\n",
    "plt.scatter(x,y,marker=\"*\",color=\"green\")\n",
    "plt.xlabel(\"Latitude\")\n",
    "plt.ylabel(\"Cloudiness\")\n",
    "plt.title(\"Latitide vs Cloudiness Plot\")\n",
    "plt.savefig(\"output_data/Latitide vs Cloudiness.png\")\n",
    "plt.show()"
   ]
  },
  {
   "cell_type": "markdown",
   "metadata": {},
   "source": [
    "#### Latitude vs. Wind Speed Plot"
   ]
  },
  {
   "cell_type": "code",
   "execution_count": 23,
   "metadata": {},
   "outputs": [
    {
     "data": {
      "image/png": "[encoded data removed]",
      "text/plain": [
       "<Figure size 432x288 with 1 Axes>"
      ]
     },
     "metadata": {
      "needs_background": "light"
     },
     "output_type": "display_data"
    }
   ],
   "source": [
    "x = pd.to_numeric(city_df[\"Lat\"])\n",
    "y = pd.to_numeric(city_df[\"Wind Speed\"])\n",
    "plt.scatter(x,y,marker=\"x\",color=\"green\")\n",
    "plt.xlabel(\"Latitude\")\n",
    "plt.ylabel(\"Wind Speed\")\n",
    "plt.title(\"Latitide vs Wind Speed Plot\")\n",
    "plt.savefig(\"output_data/Latitide vs Wind Speed.png\")\n",
    "plt.show()"
   ]
  },
  {
   "cell_type": "markdown",
   "metadata": {},
   "source": [
    "## Linear Regression"
   ]
  },
  {
   "cell_type": "code",
   "execution_count": null,
   "metadata": {},
   "outputs": [],
   "source": [
    "# OPTIONAL: Create a function to create Linear Regression plots\n"
   ]
  },
  {
   "cell_type": "code",
   "execution_count": null,
   "metadata": {},
   "outputs": [],
   "source": [
    "# Create Northern and Southern Hemisphere DataFrames\n"
   ]
  },
  {
   "cell_type": "markdown",
   "metadata": {},
   "source": [
    "####  Northern Hemisphere - Max Temp vs. Latitude Linear Regression"
   ]
  },
  {
   "cell_type": "code",
   "execution_count": null,
   "metadata": {},
   "outputs": [],
   "source": []
  },
  {
   "cell_type": "markdown",
   "metadata": {},
   "source": [
    "####  Southern Hemisphere - Max Temp vs. Latitude Linear Regression"
   ]
  },
  {
   "cell_type": "code",
   "execution_count": null,
   "metadata": {},
   "outputs": [],
   "source": []
  },
  {
   "cell_type": "markdown",
   "metadata": {},
   "source": [
    "####  Northern Hemisphere - Humidity (%) vs. Latitude Linear Regression"
   ]
  },
  {
   "cell_type": "code",
   "execution_count": null,
   "metadata": {},
   "outputs": [],
   "source": []
  },
  {
   "cell_type": "markdown",
   "metadata": {},
   "source": [
    "####  Southern Hemisphere - Humidity (%) vs. Latitude Linear Regression"
   ]
  },
  {
   "cell_type": "code",
   "execution_count": null,
   "metadata": {},
   "outputs": [],
   "source": []
  },
  {
   "cell_type": "markdown",
   "metadata": {},
   "source": [
    "####  Northern Hemisphere - Cloudiness (%) vs. Latitude Linear Regression"
   ]
  },
  {
   "cell_type": "code",
   "execution_count": null,
   "metadata": {},
   "outputs": [],
   "source": []
  },
  {
   "cell_type": "markdown",
   "metadata": {},
   "source": [
    "####  Southern Hemisphere - Cloudiness (%) vs. Latitude Linear Regression"
   ]
  },
  {
   "cell_type": "code",
   "execution_count": null,
   "metadata": {},
   "outputs": [],
   "source": []
  },
  {
   "cell_type": "markdown",
   "metadata": {},
   "source": [
    "####  Northern Hemisphere - Wind Speed (mph) vs. Latitude Linear Regression"
   ]
  },
  {
   "cell_type": "code",
   "execution_count": null,
   "metadata": {},
   "outputs": [],
   "source": []
  },
  {
   "cell_type": "markdown",
   "metadata": {},
   "source": [
    "####  Southern Hemisphere - Wind Speed (mph) vs. Latitude Linear Regression"
   ]
  },
  {
   "cell_type": "code",
   "execution_count": null,
   "metadata": {},
   "outputs": [],
   "source": []
  },
  {
   "cell_type": "code",
   "execution_count": null,
   "metadata": {},
   "outputs": [],
   "source": []
  }
 ],
 "metadata": {
  "anaconda-cloud": {},
  "kernel_info": {
   "name": "python3"
  },
  "kernelspec": {
   "display_name": "Python 3",
   "language": "python",
   "name": "python3"
  },
  "language_info": {
   "codemirror_mode": {
    "name": "ipython",
    "version": 3
   },
   "file_extension": ".py",
   "mimetype": "text/x-python",
   "name": "python",
   "nbconvert_exporter": "python",
   "pygments_lexer": "ipython3",
   "version": "3.7.6"
  },
  "latex_envs": {
   "LaTeX_envs_menu_present": true,
   "autoclose": false,
   "autocomplete": true,
   "bibliofile": "biblio.bib",
   "cite_by": "apalike",
   "current_citInitial": 1,
   "eqLabelWithNumbers": true,
   "eqNumInitial": 1,
   "hotkeys": {
    "equation": "Ctrl-E",
    "itemize": "Ctrl-I"
   },
   "labels_anchors": false,
   "latex_user_defs": false,
   "report_style_numbering": false,
   "user_envs_cfg": false
  },
  "nteract": {
   "version": "0.12.3"
  }
 },
 "nbformat": 4,
 "nbformat_minor": 2
}
